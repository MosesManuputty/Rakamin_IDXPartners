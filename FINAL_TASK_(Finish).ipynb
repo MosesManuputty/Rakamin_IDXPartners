{
  "nbformat": 4,
  "nbformat_minor": 0,
  "metadata": {
    "colab": {
      "name": "FINAL_TASK (Finish).ipynb",
      "provenance": [],
      "collapsed_sections": []
    },
    "kernelspec": {
      "name": "python3",
      "display_name": "Python 3"
    },
    "language_info": {
      "name": "python"
    }
  },
  "cells": [
    {
      "cell_type": "markdown",
      "source": [
        "# Import Libraries"
      ],
      "metadata": {
        "id": "_77Alxtu9X3_"
      }
    },
    {
      "cell_type": "code",
      "execution_count": 46,
      "metadata": {
        "id": "9aLbUs6_dOhv"
      },
      "outputs": [],
      "source": [
        "import pandas as pd\n",
        "import matplotlib.pyplot as plt\n",
        "import numpy as np\n",
        "import seaborn as sns"
      ]
    },
    {
      "cell_type": "markdown",
      "source": [
        "# Load Dataset"
      ],
      "metadata": {
        "id": "vMdKcvgf9UYv"
      }
    },
    {
      "cell_type": "code",
      "source": [
        "ld = pd.read_csv(\"/content/loan_data_2007_2014.csv\")"
      ],
      "metadata": {
        "id": "p7MbxPDldpLF"
      },
      "execution_count": 47,
      "outputs": []
    },
    {
      "cell_type": "code",
      "source": [
        "#Melihat semua Kolom dan baris\n",
        "pd.set_option('display.max_columns', None)\n",
        "pd.set_option('display.max_rows', None)"
      ],
      "metadata": {
        "id": "JzLWvyk9Usu3"
      },
      "execution_count": 48,
      "outputs": []
    },
    {
      "cell_type": "code",
      "source": [
        "#Info Kolom\n",
        "ld.info()"
      ],
      "metadata": {
        "colab": {
          "base_uri": "https://localhost:8080/"
        },
        "id": "BhItUNgOd0cL",
        "outputId": "f8394a52-9e95-421b-d42c-85301fda251b"
      },
      "execution_count": 49,
      "outputs": [
        {
          "output_type": "stream",
          "name": "stdout",
          "text": [
            "<class 'pandas.core.frame.DataFrame'>\n",
            "RangeIndex: 224898 entries, 0 to 224897\n",
            "Data columns (total 75 columns):\n",
            " #   Column                       Non-Null Count   Dtype  \n",
            "---  ------                       --------------   -----  \n",
            " 0   Unnamed: 0                   224898 non-null  int64  \n",
            " 1   id                           224898 non-null  int64  \n",
            " 2   member_id                    224898 non-null  int64  \n",
            " 3   loan_amnt                    224898 non-null  int64  \n",
            " 4   funded_amnt                  224898 non-null  int64  \n",
            " 5   funded_amnt_inv              224898 non-null  float64\n",
            " 6   term                         224898 non-null  object \n",
            " 7   int_rate                     224898 non-null  float64\n",
            " 8   installment                  224898 non-null  float64\n",
            " 9   grade                        224898 non-null  object \n",
            " 10  sub_grade                    224898 non-null  object \n",
            " 11  emp_title                    211015 non-null  object \n",
            " 12  emp_length                   216119 non-null  object \n",
            " 13  home_ownership               224898 non-null  object \n",
            " 14  annual_inc                   224894 non-null  float64\n",
            " 15  verification_status          224898 non-null  object \n",
            " 16  issue_d                      224898 non-null  object \n",
            " 17  loan_status                  224898 non-null  object \n",
            " 18  pymnt_plan                   224898 non-null  object \n",
            " 19  url                          224898 non-null  object \n",
            " 20  desc                         107410 non-null  object \n",
            " 21  purpose                      224898 non-null  object \n",
            " 22  title                        224877 non-null  object \n",
            " 23  zip_code                     224897 non-null  object \n",
            " 24  addr_state                   224897 non-null  object \n",
            " 25  dti                          224897 non-null  float64\n",
            " 26  delinq_2yrs                  224868 non-null  float64\n",
            " 27  earliest_cr_line             224868 non-null  object \n",
            " 28  inq_last_6mths               224868 non-null  float64\n",
            " 29  mths_since_last_delinq       94450 non-null   float64\n",
            " 30  mths_since_last_record       20953 non-null   float64\n",
            " 31  open_acc                     224868 non-null  float64\n",
            " 32  pub_rec                      224868 non-null  float64\n",
            " 33  revol_bal                    224897 non-null  float64\n",
            " 34  revol_util                   224693 non-null  float64\n",
            " 35  total_acc                    224868 non-null  float64\n",
            " 36  initial_list_status          224897 non-null  object \n",
            " 37  out_prncp                    224897 non-null  float64\n",
            " 38  out_prncp_inv                224897 non-null  float64\n",
            " 39  total_pymnt                  224897 non-null  float64\n",
            " 40  total_pymnt_inv              224897 non-null  float64\n",
            " 41  total_rec_prncp              224897 non-null  float64\n",
            " 42  total_rec_int                224897 non-null  float64\n",
            " 43  total_rec_late_fee           224897 non-null  float64\n",
            " 44  recoveries                   224897 non-null  float64\n",
            " 45  collection_recovery_fee      224897 non-null  float64\n",
            " 46  last_pymnt_d                 224676 non-null  object \n",
            " 47  last_pymnt_amnt              224897 non-null  float64\n",
            " 48  next_pymnt_d                 71771 non-null   object \n",
            " 49  last_credit_pull_d           224882 non-null  object \n",
            " 50  collections_12_mths_ex_med   224752 non-null  float64\n",
            " 51  mths_since_last_major_derog  32496 non-null   float64\n",
            " 52  policy_code                  224897 non-null  float64\n",
            " 53  application_type             224897 non-null  object \n",
            " 54  annual_inc_joint             0 non-null       float64\n",
            " 55  dti_joint                    0 non-null       float64\n",
            " 56  verification_status_joint    0 non-null       float64\n",
            " 57  acc_now_delinq               224868 non-null  float64\n",
            " 58  tot_coll_amt                 160381 non-null  float64\n",
            " 59  tot_cur_bal                  160381 non-null  float64\n",
            " 60  open_acc_6m                  0 non-null       float64\n",
            " 61  open_il_6m                   0 non-null       float64\n",
            " 62  open_il_12m                  0 non-null       float64\n",
            " 63  open_il_24m                  0 non-null       float64\n",
            " 64  mths_since_rcnt_il           0 non-null       float64\n",
            " 65  total_bal_il                 0 non-null       float64\n",
            " 66  il_util                      0 non-null       float64\n",
            " 67  open_rv_12m                  0 non-null       float64\n",
            " 68  open_rv_24m                  0 non-null       float64\n",
            " 69  max_bal_bc                   0 non-null       float64\n",
            " 70  all_util                     0 non-null       float64\n",
            " 71  total_rev_hi_lim             160381 non-null  float64\n",
            " 72  inq_fi                       0 non-null       float64\n",
            " 73  total_cu_tl                  0 non-null       float64\n",
            " 74  inq_last_12m                 0 non-null       float64\n",
            "dtypes: float64(48), int64(5), object(22)\n",
            "memory usage: 128.7+ MB\n"
          ]
        }
      ]
    },
    {
      "cell_type": "markdown",
      "source": [
        "Pengamatan:\n",
        "1. Data terdiri dari 420822 Baris dan 75 Kolom\n",
        "2. Tampak beberapa kolom masih memiliki null/missing values (Non-Null Count < jumlah baris)\n",
        "\n"
      ],
      "metadata": {
        "id": "4O6lqOya9gN9"
      }
    },
    {
      "cell_type": "code",
      "source": [
        "ld.shape"
      ],
      "metadata": {
        "colab": {
          "base_uri": "https://localhost:8080/"
        },
        "id": "05RRGZeJWjr4",
        "outputId": "2e4f6c90-7f6e-4c02-a382-9404ba79d603"
      },
      "execution_count": 50,
      "outputs": [
        {
          "output_type": "execute_result",
          "data": {
            "text/plain": [
              "(224898, 75)"
            ]
          },
          "metadata": {},
          "execution_count": 50
        }
      ]
    },
    {
      "cell_type": "code",
      "source": [
        "ld_nc = ld.drop(['id', 'member_id', 'sub_grade', 'emp_title', 'url', 'desc', 'title', 'zip_code', 'next_pymnt_d',\n",
        "      'recoveries', 'collection_recovery_fee', 'total_rec_prncp', 'total_rec_late_fee', 'desc', 'mths_since_last_record',\n",
        "      'mths_since_last_major_derog', 'annual_inc_joint', 'dti_joint', 'verification_status_joint', 'open_acc_6m', 'open_il_6m',\n",
        "      'open_il_12m', 'open_il_24m', 'mths_since_rcnt_il', 'total_bal_il', 'il_util', 'open_rv_12m', 'open_rv_24m','max_bal_bc',\n",
        "      'all_util', 'inq_fi', 'total_cu_tl', 'inq_last_12m','policy_code','issue_d','addr_state','earliest_cr_line','last_credit_pull_d','last_pymnt_d'], axis=1)\n",
        "ld_nc.head()"
      ],
      "metadata": {
        "colab": {
          "base_uri": "https://localhost:8080/",
          "height": 374
        },
        "id": "_2_WMNhn-YLU",
        "outputId": "7dcb913b-9e63-4ec5-f6aa-7dadfb3e6417"
      },
      "execution_count": 51,
      "outputs": [
        {
          "output_type": "execute_result",
          "data": {
            "text/plain": [
              "   Unnamed: 0  loan_amnt  funded_amnt  funded_amnt_inv        term  int_rate  \\\n",
              "0           0       5000         5000           4975.0   36 months     10.65   \n",
              "1           1       2500         2500           2500.0   60 months     15.27   \n",
              "2           2       2400         2400           2400.0   36 months     15.96   \n",
              "3           3      10000        10000          10000.0   36 months     13.49   \n",
              "4           4       3000         3000           3000.0   60 months     12.69   \n",
              "\n",
              "   installment grade emp_length home_ownership  annual_inc  \\\n",
              "0       162.87     B  10+ years           RENT     24000.0   \n",
              "1        59.83     C   < 1 year           RENT     30000.0   \n",
              "2        84.33     C  10+ years           RENT     12252.0   \n",
              "3       339.31     C  10+ years           RENT     49200.0   \n",
              "4        67.79     B     1 year           RENT     80000.0   \n",
              "\n",
              "  verification_status  loan_status pymnt_plan         purpose    dti  \\\n",
              "0            Verified   Fully Paid          n     credit_card  27.65   \n",
              "1     Source Verified  Charged Off          n             car   1.00   \n",
              "2        Not Verified   Fully Paid          n  small_business   8.72   \n",
              "3     Source Verified   Fully Paid          n           other  20.00   \n",
              "4     Source Verified      Current          n           other  17.94   \n",
              "\n",
              "   delinq_2yrs  inq_last_6mths  mths_since_last_delinq  open_acc  pub_rec  \\\n",
              "0          0.0             1.0                     NaN       3.0      0.0   \n",
              "1          0.0             5.0                     NaN       3.0      0.0   \n",
              "2          0.0             2.0                     NaN       2.0      0.0   \n",
              "3          0.0             1.0                    35.0      10.0      0.0   \n",
              "4          0.0             0.0                    38.0      15.0      0.0   \n",
              "\n",
              "   revol_bal  revol_util  total_acc initial_list_status  out_prncp  \\\n",
              "0    13648.0        83.7        9.0                   f        0.0   \n",
              "1     1687.0         9.4        4.0                   f        0.0   \n",
              "2     2956.0        98.5       10.0                   f        0.0   \n",
              "3     5598.0        21.0       37.0                   f        0.0   \n",
              "4    27783.0        53.9       38.0                   f      766.9   \n",
              "\n",
              "   out_prncp_inv   total_pymnt  total_pymnt_inv  total_rec_int  \\\n",
              "0            0.0   5861.071414          5831.78         861.07   \n",
              "1            0.0   1008.710000          1008.71         435.17   \n",
              "2            0.0   3003.653644          3003.65         603.65   \n",
              "3            0.0  12226.302210         12226.30        2209.33   \n",
              "4          766.9   3242.170000          3242.17        1009.07   \n",
              "\n",
              "   last_pymnt_amnt  collections_12_mths_ex_med application_type  \\\n",
              "0           171.62                         0.0       INDIVIDUAL   \n",
              "1           119.66                         0.0       INDIVIDUAL   \n",
              "2           649.91                         0.0       INDIVIDUAL   \n",
              "3           357.48                         0.0       INDIVIDUAL   \n",
              "4            67.79                         0.0       INDIVIDUAL   \n",
              "\n",
              "   acc_now_delinq  tot_coll_amt  tot_cur_bal  total_rev_hi_lim  \n",
              "0             0.0           NaN          NaN               NaN  \n",
              "1             0.0           NaN          NaN               NaN  \n",
              "2             0.0           NaN          NaN               NaN  \n",
              "3             0.0           NaN          NaN               NaN  \n",
              "4             0.0           NaN          NaN               NaN  "
            ],
            "text/html": [
              "\n",
              "  <div id=\"df-df6ba8fd-aefe-41fe-8c95-046009636437\">\n",
              "    <div class=\"colab-df-container\">\n",
              "      <div>\n",
              "<style scoped>\n",
              "    .dataframe tbody tr th:only-of-type {\n",
              "        vertical-align: middle;\n",
              "    }\n",
              "\n",
              "    .dataframe tbody tr th {\n",
              "        vertical-align: top;\n",
              "    }\n",
              "\n",
              "    .dataframe thead th {\n",
              "        text-align: right;\n",
              "    }\n",
              "</style>\n",
              "<table border=\"1\" class=\"dataframe\">\n",
              "  <thead>\n",
              "    <tr style=\"text-align: right;\">\n",
              "      <th></th>\n",
              "      <th>Unnamed: 0</th>\n",
              "      <th>loan_amnt</th>\n",
              "      <th>funded_amnt</th>\n",
              "      <th>funded_amnt_inv</th>\n",
              "      <th>term</th>\n",
              "      <th>int_rate</th>\n",
              "      <th>installment</th>\n",
              "      <th>grade</th>\n",
              "      <th>emp_length</th>\n",
              "      <th>home_ownership</th>\n",
              "      <th>annual_inc</th>\n",
              "      <th>verification_status</th>\n",
              "      <th>loan_status</th>\n",
              "      <th>pymnt_plan</th>\n",
              "      <th>purpose</th>\n",
              "      <th>dti</th>\n",
              "      <th>delinq_2yrs</th>\n",
              "      <th>inq_last_6mths</th>\n",
              "      <th>mths_since_last_delinq</th>\n",
              "      <th>open_acc</th>\n",
              "      <th>pub_rec</th>\n",
              "      <th>revol_bal</th>\n",
              "      <th>revol_util</th>\n",
              "      <th>total_acc</th>\n",
              "      <th>initial_list_status</th>\n",
              "      <th>out_prncp</th>\n",
              "      <th>out_prncp_inv</th>\n",
              "      <th>total_pymnt</th>\n",
              "      <th>total_pymnt_inv</th>\n",
              "      <th>total_rec_int</th>\n",
              "      <th>last_pymnt_amnt</th>\n",
              "      <th>collections_12_mths_ex_med</th>\n",
              "      <th>application_type</th>\n",
              "      <th>acc_now_delinq</th>\n",
              "      <th>tot_coll_amt</th>\n",
              "      <th>tot_cur_bal</th>\n",
              "      <th>total_rev_hi_lim</th>\n",
              "    </tr>\n",
              "  </thead>\n",
              "  <tbody>\n",
              "    <tr>\n",
              "      <th>0</th>\n",
              "      <td>0</td>\n",
              "      <td>5000</td>\n",
              "      <td>5000</td>\n",
              "      <td>4975.0</td>\n",
              "      <td>36 months</td>\n",
              "      <td>10.65</td>\n",
              "      <td>162.87</td>\n",
              "      <td>B</td>\n",
              "      <td>10+ years</td>\n",
              "      <td>RENT</td>\n",
              "      <td>24000.0</td>\n",
              "      <td>Verified</td>\n",
              "      <td>Fully Paid</td>\n",
              "      <td>n</td>\n",
              "      <td>credit_card</td>\n",
              "      <td>27.65</td>\n",
              "      <td>0.0</td>\n",
              "      <td>1.0</td>\n",
              "      <td>NaN</td>\n",
              "      <td>3.0</td>\n",
              "      <td>0.0</td>\n",
              "      <td>13648.0</td>\n",
              "      <td>83.7</td>\n",
              "      <td>9.0</td>\n",
              "      <td>f</td>\n",
              "      <td>0.0</td>\n",
              "      <td>0.0</td>\n",
              "      <td>5861.071414</td>\n",
              "      <td>5831.78</td>\n",
              "      <td>861.07</td>\n",
              "      <td>171.62</td>\n",
              "      <td>0.0</td>\n",
              "      <td>INDIVIDUAL</td>\n",
              "      <td>0.0</td>\n",
              "      <td>NaN</td>\n",
              "      <td>NaN</td>\n",
              "      <td>NaN</td>\n",
              "    </tr>\n",
              "    <tr>\n",
              "      <th>1</th>\n",
              "      <td>1</td>\n",
              "      <td>2500</td>\n",
              "      <td>2500</td>\n",
              "      <td>2500.0</td>\n",
              "      <td>60 months</td>\n",
              "      <td>15.27</td>\n",
              "      <td>59.83</td>\n",
              "      <td>C</td>\n",
              "      <td>&lt; 1 year</td>\n",
              "      <td>RENT</td>\n",
              "      <td>30000.0</td>\n",
              "      <td>Source Verified</td>\n",
              "      <td>Charged Off</td>\n",
              "      <td>n</td>\n",
              "      <td>car</td>\n",
              "      <td>1.00</td>\n",
              "      <td>0.0</td>\n",
              "      <td>5.0</td>\n",
              "      <td>NaN</td>\n",
              "      <td>3.0</td>\n",
              "      <td>0.0</td>\n",
              "      <td>1687.0</td>\n",
              "      <td>9.4</td>\n",
              "      <td>4.0</td>\n",
              "      <td>f</td>\n",
              "      <td>0.0</td>\n",
              "      <td>0.0</td>\n",
              "      <td>1008.710000</td>\n",
              "      <td>1008.71</td>\n",
              "      <td>435.17</td>\n",
              "      <td>119.66</td>\n",
              "      <td>0.0</td>\n",
              "      <td>INDIVIDUAL</td>\n",
              "      <td>0.0</td>\n",
              "      <td>NaN</td>\n",
              "      <td>NaN</td>\n",
              "      <td>NaN</td>\n",
              "    </tr>\n",
              "    <tr>\n",
              "      <th>2</th>\n",
              "      <td>2</td>\n",
              "      <td>2400</td>\n",
              "      <td>2400</td>\n",
              "      <td>2400.0</td>\n",
              "      <td>36 months</td>\n",
              "      <td>15.96</td>\n",
              "      <td>84.33</td>\n",
              "      <td>C</td>\n",
              "      <td>10+ years</td>\n",
              "      <td>RENT</td>\n",
              "      <td>12252.0</td>\n",
              "      <td>Not Verified</td>\n",
              "      <td>Fully Paid</td>\n",
              "      <td>n</td>\n",
              "      <td>small_business</td>\n",
              "      <td>8.72</td>\n",
              "      <td>0.0</td>\n",
              "      <td>2.0</td>\n",
              "      <td>NaN</td>\n",
              "      <td>2.0</td>\n",
              "      <td>0.0</td>\n",
              "      <td>2956.0</td>\n",
              "      <td>98.5</td>\n",
              "      <td>10.0</td>\n",
              "      <td>f</td>\n",
              "      <td>0.0</td>\n",
              "      <td>0.0</td>\n",
              "      <td>3003.653644</td>\n",
              "      <td>3003.65</td>\n",
              "      <td>603.65</td>\n",
              "      <td>649.91</td>\n",
              "      <td>0.0</td>\n",
              "      <td>INDIVIDUAL</td>\n",
              "      <td>0.0</td>\n",
              "      <td>NaN</td>\n",
              "      <td>NaN</td>\n",
              "      <td>NaN</td>\n",
              "    </tr>\n",
              "    <tr>\n",
              "      <th>3</th>\n",
              "      <td>3</td>\n",
              "      <td>10000</td>\n",
              "      <td>10000</td>\n",
              "      <td>10000.0</td>\n",
              "      <td>36 months</td>\n",
              "      <td>13.49</td>\n",
              "      <td>339.31</td>\n",
              "      <td>C</td>\n",
              "      <td>10+ years</td>\n",
              "      <td>RENT</td>\n",
              "      <td>49200.0</td>\n",
              "      <td>Source Verified</td>\n",
              "      <td>Fully Paid</td>\n",
              "      <td>n</td>\n",
              "      <td>other</td>\n",
              "      <td>20.00</td>\n",
              "      <td>0.0</td>\n",
              "      <td>1.0</td>\n",
              "      <td>35.0</td>\n",
              "      <td>10.0</td>\n",
              "      <td>0.0</td>\n",
              "      <td>5598.0</td>\n",
              "      <td>21.0</td>\n",
              "      <td>37.0</td>\n",
              "      <td>f</td>\n",
              "      <td>0.0</td>\n",
              "      <td>0.0</td>\n",
              "      <td>12226.302210</td>\n",
              "      <td>12226.30</td>\n",
              "      <td>2209.33</td>\n",
              "      <td>357.48</td>\n",
              "      <td>0.0</td>\n",
              "      <td>INDIVIDUAL</td>\n",
              "      <td>0.0</td>\n",
              "      <td>NaN</td>\n",
              "      <td>NaN</td>\n",
              "      <td>NaN</td>\n",
              "    </tr>\n",
              "    <tr>\n",
              "      <th>4</th>\n",
              "      <td>4</td>\n",
              "      <td>3000</td>\n",
              "      <td>3000</td>\n",
              "      <td>3000.0</td>\n",
              "      <td>60 months</td>\n",
              "      <td>12.69</td>\n",
              "      <td>67.79</td>\n",
              "      <td>B</td>\n",
              "      <td>1 year</td>\n",
              "      <td>RENT</td>\n",
              "      <td>80000.0</td>\n",
              "      <td>Source Verified</td>\n",
              "      <td>Current</td>\n",
              "      <td>n</td>\n",
              "      <td>other</td>\n",
              "      <td>17.94</td>\n",
              "      <td>0.0</td>\n",
              "      <td>0.0</td>\n",
              "      <td>38.0</td>\n",
              "      <td>15.0</td>\n",
              "      <td>0.0</td>\n",
              "      <td>27783.0</td>\n",
              "      <td>53.9</td>\n",
              "      <td>38.0</td>\n",
              "      <td>f</td>\n",
              "      <td>766.9</td>\n",
              "      <td>766.9</td>\n",
              "      <td>3242.170000</td>\n",
              "      <td>3242.17</td>\n",
              "      <td>1009.07</td>\n",
              "      <td>67.79</td>\n",
              "      <td>0.0</td>\n",
              "      <td>INDIVIDUAL</td>\n",
              "      <td>0.0</td>\n",
              "      <td>NaN</td>\n",
              "      <td>NaN</td>\n",
              "      <td>NaN</td>\n",
              "    </tr>\n",
              "  </tbody>\n",
              "</table>\n",
              "</div>\n",
              "      <button class=\"colab-df-convert\" onclick=\"convertToInteractive('df-df6ba8fd-aefe-41fe-8c95-046009636437')\"\n",
              "              title=\"Convert this dataframe to an interactive table.\"\n",
              "              style=\"display:none;\">\n",
              "        \n",
              "  <svg xmlns=\"http://www.w3.org/2000/svg\" height=\"24px\"viewBox=\"0 0 24 24\"\n",
              "       width=\"24px\">\n",
              "    <path d=\"M0 0h24v24H0V0z\" fill=\"none\"/>\n",
              "    <path d=\"M18.56 5.44l.94 2.06.94-2.06 2.06-.94-2.06-.94-.94-2.06-.94 2.06-2.06.94zm-11 1L8.5 8.5l.94-2.06 2.06-.94-2.06-.94L8.5 2.5l-.94 2.06-2.06.94zm10 10l.94 2.06.94-2.06 2.06-.94-2.06-.94-.94-2.06-.94 2.06-2.06.94z\"/><path d=\"M17.41 7.96l-1.37-1.37c-.4-.4-.92-.59-1.43-.59-.52 0-1.04.2-1.43.59L10.3 9.45l-7.72 7.72c-.78.78-.78 2.05 0 2.83L4 21.41c.39.39.9.59 1.41.59.51 0 1.02-.2 1.41-.59l7.78-7.78 2.81-2.81c.8-.78.8-2.07 0-2.86zM5.41 20L4 18.59l7.72-7.72 1.47 1.35L5.41 20z\"/>\n",
              "  </svg>\n",
              "      </button>\n",
              "      \n",
              "  <style>\n",
              "    .colab-df-container {\n",
              "      display:flex;\n",
              "      flex-wrap:wrap;\n",
              "      gap: 12px;\n",
              "    }\n",
              "\n",
              "    .colab-df-convert {\n",
              "      background-color: #E8F0FE;\n",
              "      border: none;\n",
              "      border-radius: 50%;\n",
              "      cursor: pointer;\n",
              "      display: none;\n",
              "      fill: #1967D2;\n",
              "      height: 32px;\n",
              "      padding: 0 0 0 0;\n",
              "      width: 32px;\n",
              "    }\n",
              "\n",
              "    .colab-df-convert:hover {\n",
              "      background-color: #E2EBFA;\n",
              "      box-shadow: 0px 1px 2px rgba(60, 64, 67, 0.3), 0px 1px 3px 1px rgba(60, 64, 67, 0.15);\n",
              "      fill: #174EA6;\n",
              "    }\n",
              "\n",
              "    [theme=dark] .colab-df-convert {\n",
              "      background-color: #3B4455;\n",
              "      fill: #D2E3FC;\n",
              "    }\n",
              "\n",
              "    [theme=dark] .colab-df-convert:hover {\n",
              "      background-color: #434B5C;\n",
              "      box-shadow: 0px 1px 3px 1px rgba(0, 0, 0, 0.15);\n",
              "      filter: drop-shadow(0px 1px 2px rgba(0, 0, 0, 0.3));\n",
              "      fill: #FFFFFF;\n",
              "    }\n",
              "  </style>\n",
              "\n",
              "      <script>\n",
              "        const buttonEl =\n",
              "          document.querySelector('#df-df6ba8fd-aefe-41fe-8c95-046009636437 button.colab-df-convert');\n",
              "        buttonEl.style.display =\n",
              "          google.colab.kernel.accessAllowed ? 'block' : 'none';\n",
              "\n",
              "        async function convertToInteractive(key) {\n",
              "          const element = document.querySelector('#df-df6ba8fd-aefe-41fe-8c95-046009636437');\n",
              "          const dataTable =\n",
              "            await google.colab.kernel.invokeFunction('convertToInteractive',\n",
              "                                                     [key], {});\n",
              "          if (!dataTable) return;\n",
              "\n",
              "          const docLinkHtml = 'Like what you see? Visit the ' +\n",
              "            '<a target=\"_blank\" href=https://colab.research.google.com/notebooks/data_table.ipynb>data table notebook</a>'\n",
              "            + ' to learn more about interactive tables.';\n",
              "          element.innerHTML = '';\n",
              "          dataTable['output_type'] = 'display_data';\n",
              "          await google.colab.output.renderOutput(dataTable, element);\n",
              "          const docLink = document.createElement('div');\n",
              "          docLink.innerHTML = docLinkHtml;\n",
              "          element.appendChild(docLink);\n",
              "        }\n",
              "      </script>\n",
              "    </div>\n",
              "  </div>\n",
              "  "
            ]
          },
          "metadata": {},
          "execution_count": 51
        }
      ]
    },
    {
      "cell_type": "code",
      "source": [
        "ld_nc.info()"
      ],
      "metadata": {
        "colab": {
          "base_uri": "https://localhost:8080/"
        },
        "id": "zo3q-77toGbp",
        "outputId": "c25a8697-b4d6-42d9-c715-88c0af735008"
      },
      "execution_count": 52,
      "outputs": [
        {
          "output_type": "stream",
          "name": "stdout",
          "text": [
            "<class 'pandas.core.frame.DataFrame'>\n",
            "RangeIndex: 224898 entries, 0 to 224897\n",
            "Data columns (total 37 columns):\n",
            " #   Column                      Non-Null Count   Dtype  \n",
            "---  ------                      --------------   -----  \n",
            " 0   Unnamed: 0                  224898 non-null  int64  \n",
            " 1   loan_amnt                   224898 non-null  int64  \n",
            " 2   funded_amnt                 224898 non-null  int64  \n",
            " 3   funded_amnt_inv             224898 non-null  float64\n",
            " 4   term                        224898 non-null  object \n",
            " 5   int_rate                    224898 non-null  float64\n",
            " 6   installment                 224898 non-null  float64\n",
            " 7   grade                       224898 non-null  object \n",
            " 8   emp_length                  216119 non-null  object \n",
            " 9   home_ownership              224898 non-null  object \n",
            " 10  annual_inc                  224894 non-null  float64\n",
            " 11  verification_status         224898 non-null  object \n",
            " 12  loan_status                 224898 non-null  object \n",
            " 13  pymnt_plan                  224898 non-null  object \n",
            " 14  purpose                     224898 non-null  object \n",
            " 15  dti                         224897 non-null  float64\n",
            " 16  delinq_2yrs                 224868 non-null  float64\n",
            " 17  inq_last_6mths              224868 non-null  float64\n",
            " 18  mths_since_last_delinq      94450 non-null   float64\n",
            " 19  open_acc                    224868 non-null  float64\n",
            " 20  pub_rec                     224868 non-null  float64\n",
            " 21  revol_bal                   224897 non-null  float64\n",
            " 22  revol_util                  224693 non-null  float64\n",
            " 23  total_acc                   224868 non-null  float64\n",
            " 24  initial_list_status         224897 non-null  object \n",
            " 25  out_prncp                   224897 non-null  float64\n",
            " 26  out_prncp_inv               224897 non-null  float64\n",
            " 27  total_pymnt                 224897 non-null  float64\n",
            " 28  total_pymnt_inv             224897 non-null  float64\n",
            " 29  total_rec_int               224897 non-null  float64\n",
            " 30  last_pymnt_amnt             224897 non-null  float64\n",
            " 31  collections_12_mths_ex_med  224752 non-null  float64\n",
            " 32  application_type            224897 non-null  object \n",
            " 33  acc_now_delinq              224868 non-null  float64\n",
            " 34  tot_coll_amt                160381 non-null  float64\n",
            " 35  tot_cur_bal                 160381 non-null  float64\n",
            " 36  total_rev_hi_lim            160381 non-null  float64\n",
            "dtypes: float64(24), int64(3), object(10)\n",
            "memory usage: 63.5+ MB\n"
          ]
        }
      ]
    },
    {
      "cell_type": "markdown",
      "source": [
        "## Statistical Summary"
      ],
      "metadata": {
        "id": "N3nbRSeQijpC"
      }
    },
    {
      "cell_type": "code",
      "source": [
        "#pengelompokan kolom berdasarkan jenisnya\n",
        "nums = ['loan_amnt', 'funded_amnt', 'funded_amnt_inv', 'int_rate', 'installment', 'annual_inc','dti','delinq_2yrs','inq_last_6mths','mths_since_last_delinq','open_acc','pub_rec','revol_bal','revol_util','total_acc','out_prncp','out_prncp_inv','total_pymnt','total_pymnt_inv','total_rec_int','last_pymnt_amnt','collections_12_mths_ex_med','acc_now_delinq','tot_coll_amt','tot_cur_bal','total_rev_hi_lim']\n",
        "cats = ['term', 'grade','emp_length','home_ownership','verification_status','pymnt_plan','purpose','initial_list_status','application_type','loan_status']"
      ],
      "metadata": {
        "id": "o90IBi_KIqBy"
      },
      "execution_count": 53,
      "outputs": []
    },
    {
      "cell_type": "code",
      "source": [
        "#Descrihe pada kolo-kolom bertipe Numerik\n",
        "ld_nc[nums].describe()"
      ],
      "metadata": {
        "colab": {
          "base_uri": "https://localhost:8080/",
          "height": 364
        },
        "id": "eJq0V4QDincT",
        "outputId": "54197d8b-39cf-477a-d411-33d4b75154ae"
      },
      "execution_count": 54,
      "outputs": [
        {
          "output_type": "execute_result",
          "data": {
            "text/plain": [
              "           loan_amnt    funded_amnt  funded_amnt_inv       int_rate  \\\n",
              "count  224898.000000  224898.000000    224898.000000  224898.000000   \n",
              "mean    13752.858407   13701.015238     13563.193607      13.922385   \n",
              "std      8085.563248    8056.773274      8099.690597       4.388698   \n",
              "min       500.000000     500.000000         0.000000       5.420000   \n",
              "25%      7500.000000    7500.000000      7250.000000      10.990000   \n",
              "50%     12000.000000   12000.000000     12000.000000      13.680000   \n",
              "75%     19193.750000   19000.000000     18875.000000      16.820000   \n",
              "max     35000.000000   35000.000000     35000.000000      26.060000   \n",
              "\n",
              "         installment    annual_inc            dti    delinq_2yrs  \\\n",
              "count  224898.000000  2.248940e+05  224897.000000  224868.000000   \n",
              "mean      421.427551  7.174645e+04      16.427604       0.226359   \n",
              "std       241.266444  5.457898e+04       7.600878       0.678227   \n",
              "min        15.670000  1.896000e+03       0.000000       0.000000   \n",
              "25%       244.970000  4.500000e+04      10.740000       0.000000   \n",
              "50%       374.540000  6.100000e+04      16.180000       0.000000   \n",
              "75%       553.087500  8.600000e+04      21.880000       0.000000   \n",
              "max      1408.130000  7.141778e+06      34.990000      29.000000   \n",
              "\n",
              "       inq_last_6mths  mths_since_last_delinq       open_acc        pub_rec  \\\n",
              "count   224868.000000            94450.000000  224868.000000  224868.000000   \n",
              "mean         0.855235               34.913097      10.723104       0.099080   \n",
              "std          1.149029               21.746453       4.642957       0.385967   \n",
              "min          0.000000                0.000000       0.000000       0.000000   \n",
              "25%          0.000000               17.000000       7.000000       0.000000   \n",
              "50%          0.000000               32.000000      10.000000       0.000000   \n",
              "75%          1.000000               50.000000      13.000000       0.000000   \n",
              "max         33.000000              156.000000      62.000000      54.000000   \n",
              "\n",
              "          revol_bal     revol_util      total_acc      out_prncp  \\\n",
              "count  2.248970e+05  224693.000000  224868.000000  224897.000000   \n",
              "mean   1.597911e+04      56.664590      24.149666    1806.870814   \n",
              "std    1.997699e+04      24.319493      11.222196    4073.418634   \n",
              "min    0.000000e+00       0.000000       1.000000       0.000000   \n",
              "25%    6.487000e+03      39.700000      16.000000       0.000000   \n",
              "50%    1.184300e+04      58.900000      23.000000       0.000000   \n",
              "75%    2.017200e+04      76.000000      31.000000    1304.290000   \n",
              "max    2.568995e+06     140.400000     105.000000   27631.060000   \n",
              "\n",
              "       out_prncp_inv    total_pymnt  total_pymnt_inv  total_rec_int  \\\n",
              "count  224897.000000  224897.000000    224897.000000  224897.000000   \n",
              "mean     1805.697097   13645.246900     13502.840689    2894.090390   \n",
              "std      4071.284191    8888.944475      8902.498472    2890.836172   \n",
              "min         0.000000       0.000000         0.000000       0.000000   \n",
              "25%         0.000000    7049.683386      6922.440000    1020.640000   \n",
              "50%         0.000000   11738.240000     11628.220000    1955.010000   \n",
              "75%      1303.540000   18221.110000     18086.800000    3640.080000   \n",
              "max     27631.060000   57777.579870     57777.580000   24205.620000   \n",
              "\n",
              "       last_pymnt_amnt  collections_12_mths_ex_med  acc_now_delinq  \\\n",
              "count    224897.000000               224752.000000   224868.000000   \n",
              "mean       3491.211438                    0.002656        0.002290   \n",
              "std        5552.084390                    0.054166        0.053591   \n",
              "min           0.000000                    0.000000        0.000000   \n",
              "25%         328.160000                    0.000000        0.000000   \n",
              "50%         644.080000                    0.000000        0.000000   \n",
              "75%        4615.470000                    0.000000        0.000000   \n",
              "max       36115.200000                    4.000000        5.000000   \n",
              "\n",
              "        tot_coll_amt   tot_cur_bal  total_rev_hi_lim  \n",
              "count  160381.000000  1.603810e+05      1.603810e+05  \n",
              "mean       76.746996  1.373311e+05      2.989417e+04  \n",
              "std       859.802893  1.507590e+05      3.777515e+04  \n",
              "min         0.000000  0.000000e+00      0.000000e+00  \n",
              "25%         0.000000  2.747100e+04      1.390000e+04  \n",
              "50%         0.000000  8.076500e+04      2.300000e+04  \n",
              "75%         0.000000  2.081860e+05      3.720000e+04  \n",
              "max     88303.000000  8.000078e+06      9.999999e+06  "
            ],
            "text/html": [
              "\n",
              "  <div id=\"df-d27f17d3-0fc5-48c7-b2bb-77a06e487065\">\n",
              "    <div class=\"colab-df-container\">\n",
              "      <div>\n",
              "<style scoped>\n",
              "    .dataframe tbody tr th:only-of-type {\n",
              "        vertical-align: middle;\n",
              "    }\n",
              "\n",
              "    .dataframe tbody tr th {\n",
              "        vertical-align: top;\n",
              "    }\n",
              "\n",
              "    .dataframe thead th {\n",
              "        text-align: right;\n",
              "    }\n",
              "</style>\n",
              "<table border=\"1\" class=\"dataframe\">\n",
              "  <thead>\n",
              "    <tr style=\"text-align: right;\">\n",
              "      <th></th>\n",
              "      <th>loan_amnt</th>\n",
              "      <th>funded_amnt</th>\n",
              "      <th>funded_amnt_inv</th>\n",
              "      <th>int_rate</th>\n",
              "      <th>installment</th>\n",
              "      <th>annual_inc</th>\n",
              "      <th>dti</th>\n",
              "      <th>delinq_2yrs</th>\n",
              "      <th>inq_last_6mths</th>\n",
              "      <th>mths_since_last_delinq</th>\n",
              "      <th>open_acc</th>\n",
              "      <th>pub_rec</th>\n",
              "      <th>revol_bal</th>\n",
              "      <th>revol_util</th>\n",
              "      <th>total_acc</th>\n",
              "      <th>out_prncp</th>\n",
              "      <th>out_prncp_inv</th>\n",
              "      <th>total_pymnt</th>\n",
              "      <th>total_pymnt_inv</th>\n",
              "      <th>total_rec_int</th>\n",
              "      <th>last_pymnt_amnt</th>\n",
              "      <th>collections_12_mths_ex_med</th>\n",
              "      <th>acc_now_delinq</th>\n",
              "      <th>tot_coll_amt</th>\n",
              "      <th>tot_cur_bal</th>\n",
              "      <th>total_rev_hi_lim</th>\n",
              "    </tr>\n",
              "  </thead>\n",
              "  <tbody>\n",
              "    <tr>\n",
              "      <th>count</th>\n",
              "      <td>224898.000000</td>\n",
              "      <td>224898.000000</td>\n",
              "      <td>224898.000000</td>\n",
              "      <td>224898.000000</td>\n",
              "      <td>224898.000000</td>\n",
              "      <td>2.248940e+05</td>\n",
              "      <td>224897.000000</td>\n",
              "      <td>224868.000000</td>\n",
              "      <td>224868.000000</td>\n",
              "      <td>94450.000000</td>\n",
              "      <td>224868.000000</td>\n",
              "      <td>224868.000000</td>\n",
              "      <td>2.248970e+05</td>\n",
              "      <td>224693.000000</td>\n",
              "      <td>224868.000000</td>\n",
              "      <td>224897.000000</td>\n",
              "      <td>224897.000000</td>\n",
              "      <td>224897.000000</td>\n",
              "      <td>224897.000000</td>\n",
              "      <td>224897.000000</td>\n",
              "      <td>224897.000000</td>\n",
              "      <td>224752.000000</td>\n",
              "      <td>224868.000000</td>\n",
              "      <td>160381.000000</td>\n",
              "      <td>1.603810e+05</td>\n",
              "      <td>1.603810e+05</td>\n",
              "    </tr>\n",
              "    <tr>\n",
              "      <th>mean</th>\n",
              "      <td>13752.858407</td>\n",
              "      <td>13701.015238</td>\n",
              "      <td>13563.193607</td>\n",
              "      <td>13.922385</td>\n",
              "      <td>421.427551</td>\n",
              "      <td>7.174645e+04</td>\n",
              "      <td>16.427604</td>\n",
              "      <td>0.226359</td>\n",
              "      <td>0.855235</td>\n",
              "      <td>34.913097</td>\n",
              "      <td>10.723104</td>\n",
              "      <td>0.099080</td>\n",
              "      <td>1.597911e+04</td>\n",
              "      <td>56.664590</td>\n",
              "      <td>24.149666</td>\n",
              "      <td>1806.870814</td>\n",
              "      <td>1805.697097</td>\n",
              "      <td>13645.246900</td>\n",
              "      <td>13502.840689</td>\n",
              "      <td>2894.090390</td>\n",
              "      <td>3491.211438</td>\n",
              "      <td>0.002656</td>\n",
              "      <td>0.002290</td>\n",
              "      <td>76.746996</td>\n",
              "      <td>1.373311e+05</td>\n",
              "      <td>2.989417e+04</td>\n",
              "    </tr>\n",
              "    <tr>\n",
              "      <th>std</th>\n",
              "      <td>8085.563248</td>\n",
              "      <td>8056.773274</td>\n",
              "      <td>8099.690597</td>\n",
              "      <td>4.388698</td>\n",
              "      <td>241.266444</td>\n",
              "      <td>5.457898e+04</td>\n",
              "      <td>7.600878</td>\n",
              "      <td>0.678227</td>\n",
              "      <td>1.149029</td>\n",
              "      <td>21.746453</td>\n",
              "      <td>4.642957</td>\n",
              "      <td>0.385967</td>\n",
              "      <td>1.997699e+04</td>\n",
              "      <td>24.319493</td>\n",
              "      <td>11.222196</td>\n",
              "      <td>4073.418634</td>\n",
              "      <td>4071.284191</td>\n",
              "      <td>8888.944475</td>\n",
              "      <td>8902.498472</td>\n",
              "      <td>2890.836172</td>\n",
              "      <td>5552.084390</td>\n",
              "      <td>0.054166</td>\n",
              "      <td>0.053591</td>\n",
              "      <td>859.802893</td>\n",
              "      <td>1.507590e+05</td>\n",
              "      <td>3.777515e+04</td>\n",
              "    </tr>\n",
              "    <tr>\n",
              "      <th>min</th>\n",
              "      <td>500.000000</td>\n",
              "      <td>500.000000</td>\n",
              "      <td>0.000000</td>\n",
              "      <td>5.420000</td>\n",
              "      <td>15.670000</td>\n",
              "      <td>1.896000e+03</td>\n",
              "      <td>0.000000</td>\n",
              "      <td>0.000000</td>\n",
              "      <td>0.000000</td>\n",
              "      <td>0.000000</td>\n",
              "      <td>0.000000</td>\n",
              "      <td>0.000000</td>\n",
              "      <td>0.000000e+00</td>\n",
              "      <td>0.000000</td>\n",
              "      <td>1.000000</td>\n",
              "      <td>0.000000</td>\n",
              "      <td>0.000000</td>\n",
              "      <td>0.000000</td>\n",
              "      <td>0.000000</td>\n",
              "      <td>0.000000</td>\n",
              "      <td>0.000000</td>\n",
              "      <td>0.000000</td>\n",
              "      <td>0.000000</td>\n",
              "      <td>0.000000</td>\n",
              "      <td>0.000000e+00</td>\n",
              "      <td>0.000000e+00</td>\n",
              "    </tr>\n",
              "    <tr>\n",
              "      <th>25%</th>\n",
              "      <td>7500.000000</td>\n",
              "      <td>7500.000000</td>\n",
              "      <td>7250.000000</td>\n",
              "      <td>10.990000</td>\n",
              "      <td>244.970000</td>\n",
              "      <td>4.500000e+04</td>\n",
              "      <td>10.740000</td>\n",
              "      <td>0.000000</td>\n",
              "      <td>0.000000</td>\n",
              "      <td>17.000000</td>\n",
              "      <td>7.000000</td>\n",
              "      <td>0.000000</td>\n",
              "      <td>6.487000e+03</td>\n",
              "      <td>39.700000</td>\n",
              "      <td>16.000000</td>\n",
              "      <td>0.000000</td>\n",
              "      <td>0.000000</td>\n",
              "      <td>7049.683386</td>\n",
              "      <td>6922.440000</td>\n",
              "      <td>1020.640000</td>\n",
              "      <td>328.160000</td>\n",
              "      <td>0.000000</td>\n",
              "      <td>0.000000</td>\n",
              "      <td>0.000000</td>\n",
              "      <td>2.747100e+04</td>\n",
              "      <td>1.390000e+04</td>\n",
              "    </tr>\n",
              "    <tr>\n",
              "      <th>50%</th>\n",
              "      <td>12000.000000</td>\n",
              "      <td>12000.000000</td>\n",
              "      <td>12000.000000</td>\n",
              "      <td>13.680000</td>\n",
              "      <td>374.540000</td>\n",
              "      <td>6.100000e+04</td>\n",
              "      <td>16.180000</td>\n",
              "      <td>0.000000</td>\n",
              "      <td>0.000000</td>\n",
              "      <td>32.000000</td>\n",
              "      <td>10.000000</td>\n",
              "      <td>0.000000</td>\n",
              "      <td>1.184300e+04</td>\n",
              "      <td>58.900000</td>\n",
              "      <td>23.000000</td>\n",
              "      <td>0.000000</td>\n",
              "      <td>0.000000</td>\n",
              "      <td>11738.240000</td>\n",
              "      <td>11628.220000</td>\n",
              "      <td>1955.010000</td>\n",
              "      <td>644.080000</td>\n",
              "      <td>0.000000</td>\n",
              "      <td>0.000000</td>\n",
              "      <td>0.000000</td>\n",
              "      <td>8.076500e+04</td>\n",
              "      <td>2.300000e+04</td>\n",
              "    </tr>\n",
              "    <tr>\n",
              "      <th>75%</th>\n",
              "      <td>19193.750000</td>\n",
              "      <td>19000.000000</td>\n",
              "      <td>18875.000000</td>\n",
              "      <td>16.820000</td>\n",
              "      <td>553.087500</td>\n",
              "      <td>8.600000e+04</td>\n",
              "      <td>21.880000</td>\n",
              "      <td>0.000000</td>\n",
              "      <td>1.000000</td>\n",
              "      <td>50.000000</td>\n",
              "      <td>13.000000</td>\n",
              "      <td>0.000000</td>\n",
              "      <td>2.017200e+04</td>\n",
              "      <td>76.000000</td>\n",
              "      <td>31.000000</td>\n",
              "      <td>1304.290000</td>\n",
              "      <td>1303.540000</td>\n",
              "      <td>18221.110000</td>\n",
              "      <td>18086.800000</td>\n",
              "      <td>3640.080000</td>\n",
              "      <td>4615.470000</td>\n",
              "      <td>0.000000</td>\n",
              "      <td>0.000000</td>\n",
              "      <td>0.000000</td>\n",
              "      <td>2.081860e+05</td>\n",
              "      <td>3.720000e+04</td>\n",
              "    </tr>\n",
              "    <tr>\n",
              "      <th>max</th>\n",
              "      <td>35000.000000</td>\n",
              "      <td>35000.000000</td>\n",
              "      <td>35000.000000</td>\n",
              "      <td>26.060000</td>\n",
              "      <td>1408.130000</td>\n",
              "      <td>7.141778e+06</td>\n",
              "      <td>34.990000</td>\n",
              "      <td>29.000000</td>\n",
              "      <td>33.000000</td>\n",
              "      <td>156.000000</td>\n",
              "      <td>62.000000</td>\n",
              "      <td>54.000000</td>\n",
              "      <td>2.568995e+06</td>\n",
              "      <td>140.400000</td>\n",
              "      <td>105.000000</td>\n",
              "      <td>27631.060000</td>\n",
              "      <td>27631.060000</td>\n",
              "      <td>57777.579870</td>\n",
              "      <td>57777.580000</td>\n",
              "      <td>24205.620000</td>\n",
              "      <td>36115.200000</td>\n",
              "      <td>4.000000</td>\n",
              "      <td>5.000000</td>\n",
              "      <td>88303.000000</td>\n",
              "      <td>8.000078e+06</td>\n",
              "      <td>9.999999e+06</td>\n",
              "    </tr>\n",
              "  </tbody>\n",
              "</table>\n",
              "</div>\n",
              "      <button class=\"colab-df-convert\" onclick=\"convertToInteractive('df-d27f17d3-0fc5-48c7-b2bb-77a06e487065')\"\n",
              "              title=\"Convert this dataframe to an interactive table.\"\n",
              "              style=\"display:none;\">\n",
              "        \n",
              "  <svg xmlns=\"http://www.w3.org/2000/svg\" height=\"24px\"viewBox=\"0 0 24 24\"\n",
              "       width=\"24px\">\n",
              "    <path d=\"M0 0h24v24H0V0z\" fill=\"none\"/>\n",
              "    <path d=\"M18.56 5.44l.94 2.06.94-2.06 2.06-.94-2.06-.94-.94-2.06-.94 2.06-2.06.94zm-11 1L8.5 8.5l.94-2.06 2.06-.94-2.06-.94L8.5 2.5l-.94 2.06-2.06.94zm10 10l.94 2.06.94-2.06 2.06-.94-2.06-.94-.94-2.06-.94 2.06-2.06.94z\"/><path d=\"M17.41 7.96l-1.37-1.37c-.4-.4-.92-.59-1.43-.59-.52 0-1.04.2-1.43.59L10.3 9.45l-7.72 7.72c-.78.78-.78 2.05 0 2.83L4 21.41c.39.39.9.59 1.41.59.51 0 1.02-.2 1.41-.59l7.78-7.78 2.81-2.81c.8-.78.8-2.07 0-2.86zM5.41 20L4 18.59l7.72-7.72 1.47 1.35L5.41 20z\"/>\n",
              "  </svg>\n",
              "      </button>\n",
              "      \n",
              "  <style>\n",
              "    .colab-df-container {\n",
              "      display:flex;\n",
              "      flex-wrap:wrap;\n",
              "      gap: 12px;\n",
              "    }\n",
              "\n",
              "    .colab-df-convert {\n",
              "      background-color: #E8F0FE;\n",
              "      border: none;\n",
              "      border-radius: 50%;\n",
              "      cursor: pointer;\n",
              "      display: none;\n",
              "      fill: #1967D2;\n",
              "      height: 32px;\n",
              "      padding: 0 0 0 0;\n",
              "      width: 32px;\n",
              "    }\n",
              "\n",
              "    .colab-df-convert:hover {\n",
              "      background-color: #E2EBFA;\n",
              "      box-shadow: 0px 1px 2px rgba(60, 64, 67, 0.3), 0px 1px 3px 1px rgba(60, 64, 67, 0.15);\n",
              "      fill: #174EA6;\n",
              "    }\n",
              "\n",
              "    [theme=dark] .colab-df-convert {\n",
              "      background-color: #3B4455;\n",
              "      fill: #D2E3FC;\n",
              "    }\n",
              "\n",
              "    [theme=dark] .colab-df-convert:hover {\n",
              "      background-color: #434B5C;\n",
              "      box-shadow: 0px 1px 3px 1px rgba(0, 0, 0, 0.15);\n",
              "      filter: drop-shadow(0px 1px 2px rgba(0, 0, 0, 0.3));\n",
              "      fill: #FFFFFF;\n",
              "    }\n",
              "  </style>\n",
              "\n",
              "      <script>\n",
              "        const buttonEl =\n",
              "          document.querySelector('#df-d27f17d3-0fc5-48c7-b2bb-77a06e487065 button.colab-df-convert');\n",
              "        buttonEl.style.display =\n",
              "          google.colab.kernel.accessAllowed ? 'block' : 'none';\n",
              "\n",
              "        async function convertToInteractive(key) {\n",
              "          const element = document.querySelector('#df-d27f17d3-0fc5-48c7-b2bb-77a06e487065');\n",
              "          const dataTable =\n",
              "            await google.colab.kernel.invokeFunction('convertToInteractive',\n",
              "                                                     [key], {});\n",
              "          if (!dataTable) return;\n",
              "\n",
              "          const docLinkHtml = 'Like what you see? Visit the ' +\n",
              "            '<a target=\"_blank\" href=https://colab.research.google.com/notebooks/data_table.ipynb>data table notebook</a>'\n",
              "            + ' to learn more about interactive tables.';\n",
              "          element.innerHTML = '';\n",
              "          dataTable['output_type'] = 'display_data';\n",
              "          await google.colab.output.renderOutput(dataTable, element);\n",
              "          const docLink = document.createElement('div');\n",
              "          docLink.innerHTML = docLinkHtml;\n",
              "          element.appendChild(docLink);\n",
              "        }\n",
              "      </script>\n",
              "    </div>\n",
              "  </div>\n",
              "  "
            ]
          },
          "metadata": {},
          "execution_count": 54
        }
      ]
    },
    {
      "cell_type": "code",
      "source": [
        "#Descrihe pada kolo-kolom bertipe Kategorik\n",
        "ld_nc[cats].describe()"
      ],
      "metadata": {
        "colab": {
          "base_uri": "https://localhost:8080/",
          "height": 175
        },
        "id": "49COMcs7O8Mt",
        "outputId": "1d6bc4df-0190-4669-c54e-1d0e60313bc2"
      },
      "execution_count": 55,
      "outputs": [
        {
          "output_type": "execute_result",
          "data": {
            "text/plain": [
              "              term   grade emp_length home_ownership verification_status  \\\n",
              "count       224898  224898     216119         224898              224898   \n",
              "unique           2       7         11              5                   3   \n",
              "top      36 months       B  10+ years       MORTGAGE            Verified   \n",
              "freq        170767   73176      69079         113566               98799   \n",
              "\n",
              "       pymnt_plan             purpose initial_list_status application_type  \\\n",
              "count      224898              224898              224897           224897   \n",
              "unique          2                  15                   2                1   \n",
              "top             n  debt_consolidation                   f       INDIVIDUAL   \n",
              "freq       224893              128104              185090           224897   \n",
              "\n",
              "       loan_status  \n",
              "count       224898  \n",
              "unique           9  \n",
              "top     Fully Paid  \n",
              "freq        125551  "
            ],
            "text/html": [
              "\n",
              "  <div id=\"df-cd9f274c-2a5f-4666-8692-3057b5554dc4\">\n",
              "    <div class=\"colab-df-container\">\n",
              "      <div>\n",
              "<style scoped>\n",
              "    .dataframe tbody tr th:only-of-type {\n",
              "        vertical-align: middle;\n",
              "    }\n",
              "\n",
              "    .dataframe tbody tr th {\n",
              "        vertical-align: top;\n",
              "    }\n",
              "\n",
              "    .dataframe thead th {\n",
              "        text-align: right;\n",
              "    }\n",
              "</style>\n",
              "<table border=\"1\" class=\"dataframe\">\n",
              "  <thead>\n",
              "    <tr style=\"text-align: right;\">\n",
              "      <th></th>\n",
              "      <th>term</th>\n",
              "      <th>grade</th>\n",
              "      <th>emp_length</th>\n",
              "      <th>home_ownership</th>\n",
              "      <th>verification_status</th>\n",
              "      <th>pymnt_plan</th>\n",
              "      <th>purpose</th>\n",
              "      <th>initial_list_status</th>\n",
              "      <th>application_type</th>\n",
              "      <th>loan_status</th>\n",
              "    </tr>\n",
              "  </thead>\n",
              "  <tbody>\n",
              "    <tr>\n",
              "      <th>count</th>\n",
              "      <td>224898</td>\n",
              "      <td>224898</td>\n",
              "      <td>216119</td>\n",
              "      <td>224898</td>\n",
              "      <td>224898</td>\n",
              "      <td>224898</td>\n",
              "      <td>224898</td>\n",
              "      <td>224897</td>\n",
              "      <td>224897</td>\n",
              "      <td>224898</td>\n",
              "    </tr>\n",
              "    <tr>\n",
              "      <th>unique</th>\n",
              "      <td>2</td>\n",
              "      <td>7</td>\n",
              "      <td>11</td>\n",
              "      <td>5</td>\n",
              "      <td>3</td>\n",
              "      <td>2</td>\n",
              "      <td>15</td>\n",
              "      <td>2</td>\n",
              "      <td>1</td>\n",
              "      <td>9</td>\n",
              "    </tr>\n",
              "    <tr>\n",
              "      <th>top</th>\n",
              "      <td>36 months</td>\n",
              "      <td>B</td>\n",
              "      <td>10+ years</td>\n",
              "      <td>MORTGAGE</td>\n",
              "      <td>Verified</td>\n",
              "      <td>n</td>\n",
              "      <td>debt_consolidation</td>\n",
              "      <td>f</td>\n",
              "      <td>INDIVIDUAL</td>\n",
              "      <td>Fully Paid</td>\n",
              "    </tr>\n",
              "    <tr>\n",
              "      <th>freq</th>\n",
              "      <td>170767</td>\n",
              "      <td>73176</td>\n",
              "      <td>69079</td>\n",
              "      <td>113566</td>\n",
              "      <td>98799</td>\n",
              "      <td>224893</td>\n",
              "      <td>128104</td>\n",
              "      <td>185090</td>\n",
              "      <td>224897</td>\n",
              "      <td>125551</td>\n",
              "    </tr>\n",
              "  </tbody>\n",
              "</table>\n",
              "</div>\n",
              "      <button class=\"colab-df-convert\" onclick=\"convertToInteractive('df-cd9f274c-2a5f-4666-8692-3057b5554dc4')\"\n",
              "              title=\"Convert this dataframe to an interactive table.\"\n",
              "              style=\"display:none;\">\n",
              "        \n",
              "  <svg xmlns=\"http://www.w3.org/2000/svg\" height=\"24px\"viewBox=\"0 0 24 24\"\n",
              "       width=\"24px\">\n",
              "    <path d=\"M0 0h24v24H0V0z\" fill=\"none\"/>\n",
              "    <path d=\"M18.56 5.44l.94 2.06.94-2.06 2.06-.94-2.06-.94-.94-2.06-.94 2.06-2.06.94zm-11 1L8.5 8.5l.94-2.06 2.06-.94-2.06-.94L8.5 2.5l-.94 2.06-2.06.94zm10 10l.94 2.06.94-2.06 2.06-.94-2.06-.94-.94-2.06-.94 2.06-2.06.94z\"/><path d=\"M17.41 7.96l-1.37-1.37c-.4-.4-.92-.59-1.43-.59-.52 0-1.04.2-1.43.59L10.3 9.45l-7.72 7.72c-.78.78-.78 2.05 0 2.83L4 21.41c.39.39.9.59 1.41.59.51 0 1.02-.2 1.41-.59l7.78-7.78 2.81-2.81c.8-.78.8-2.07 0-2.86zM5.41 20L4 18.59l7.72-7.72 1.47 1.35L5.41 20z\"/>\n",
              "  </svg>\n",
              "      </button>\n",
              "      \n",
              "  <style>\n",
              "    .colab-df-container {\n",
              "      display:flex;\n",
              "      flex-wrap:wrap;\n",
              "      gap: 12px;\n",
              "    }\n",
              "\n",
              "    .colab-df-convert {\n",
              "      background-color: #E8F0FE;\n",
              "      border: none;\n",
              "      border-radius: 50%;\n",
              "      cursor: pointer;\n",
              "      display: none;\n",
              "      fill: #1967D2;\n",
              "      height: 32px;\n",
              "      padding: 0 0 0 0;\n",
              "      width: 32px;\n",
              "    }\n",
              "\n",
              "    .colab-df-convert:hover {\n",
              "      background-color: #E2EBFA;\n",
              "      box-shadow: 0px 1px 2px rgba(60, 64, 67, 0.3), 0px 1px 3px 1px rgba(60, 64, 67, 0.15);\n",
              "      fill: #174EA6;\n",
              "    }\n",
              "\n",
              "    [theme=dark] .colab-df-convert {\n",
              "      background-color: #3B4455;\n",
              "      fill: #D2E3FC;\n",
              "    }\n",
              "\n",
              "    [theme=dark] .colab-df-convert:hover {\n",
              "      background-color: #434B5C;\n",
              "      box-shadow: 0px 1px 3px 1px rgba(0, 0, 0, 0.15);\n",
              "      filter: drop-shadow(0px 1px 2px rgba(0, 0, 0, 0.3));\n",
              "      fill: #FFFFFF;\n",
              "    }\n",
              "  </style>\n",
              "\n",
              "      <script>\n",
              "        const buttonEl =\n",
              "          document.querySelector('#df-cd9f274c-2a5f-4666-8692-3057b5554dc4 button.colab-df-convert');\n",
              "        buttonEl.style.display =\n",
              "          google.colab.kernel.accessAllowed ? 'block' : 'none';\n",
              "\n",
              "        async function convertToInteractive(key) {\n",
              "          const element = document.querySelector('#df-cd9f274c-2a5f-4666-8692-3057b5554dc4');\n",
              "          const dataTable =\n",
              "            await google.colab.kernel.invokeFunction('convertToInteractive',\n",
              "                                                     [key], {});\n",
              "          if (!dataTable) return;\n",
              "\n",
              "          const docLinkHtml = 'Like what you see? Visit the ' +\n",
              "            '<a target=\"_blank\" href=https://colab.research.google.com/notebooks/data_table.ipynb>data table notebook</a>'\n",
              "            + ' to learn more about interactive tables.';\n",
              "          element.innerHTML = '';\n",
              "          dataTable['output_type'] = 'display_data';\n",
              "          await google.colab.output.renderOutput(dataTable, element);\n",
              "          const docLink = document.createElement('div');\n",
              "          docLink.innerHTML = docLinkHtml;\n",
              "          element.appendChild(docLink);\n",
              "        }\n",
              "      </script>\n",
              "    </div>\n",
              "  </div>\n",
              "  "
            ]
          },
          "metadata": {},
          "execution_count": 55
        }
      ]
    },
    {
      "cell_type": "code",
      "source": [
        ""
      ],
      "metadata": {
        "id": "pzSh-4OzqBvw"
      },
      "execution_count": 55,
      "outputs": []
    },
    {
      "cell_type": "code",
      "source": [
        "plt.figure(figsize=(47,39))\n",
        "sns.heatmap(ld_nc.corr(), cmap='Blues', annot=True ,fmt='.2f')"
      ],
      "metadata": {
        "id": "GKhqxo8XWaJU",
        "colab": {
          "base_uri": "https://localhost:8080/",
          "height": 1000
        },
        "outputId": "4c069a6f-1a00-4ad2-db5d-08c3a133183c"
      },
      "execution_count": 56,
      "outputs": [
        {
          "output_type": "execute_result",
          "data": {
            "text/plain": [
              "<matplotlib.axes._subplots.AxesSubplot at 0x7f98aee1d110>"
            ]
          },
          "metadata": {},
          "execution_count": 56
        },
        {
          "output_type": "display_data",
          "data": {
            "text/plain": [
              "<Figure size 3384x2808 with 2 Axes>"
            ],
            "image/png": "[encoded data removed]"
          },
          "metadata": {
            "needs_background": "light"
          }
        }
      ]
    },
    {
      "cell_type": "markdown",
      "source": [
        "#Cuplikan Data"
      ],
      "metadata": {
        "id": "x77RT1zx916x"
      }
    },
    {
      "cell_type": "code",
      "source": [
        "ld_nc.sample(5)"
      ],
      "metadata": {
        "colab": {
          "base_uri": "https://localhost:8080/",
          "height": 374
        },
        "id": "HXWPybW6dpQS",
        "outputId": "8e526116-2808-4efb-af61-c9533915f027"
      },
      "execution_count": 57,
      "outputs": [
        {
          "output_type": "execute_result",
          "data": {
            "text/plain": [
              "       Unnamed: 0  loan_amnt  funded_amnt  funded_amnt_inv        term  \\\n",
              "85227       85227       7000         7000           7000.0   60 months   \n",
              "74107       74107      23850        23850          23850.0   60 months   \n",
              "79576       79576      22000        22000          22000.0   60 months   \n",
              "36659       36659       3000         3000           3000.0   36 months   \n",
              "57656       57656      11500        11500          11450.0   36 months   \n",
              "\n",
              "       int_rate  installment grade emp_length home_ownership  annual_inc  \\\n",
              "85227     20.20       186.24     D    5 years            OWN     56250.0   \n",
              "74107     15.61       575.06     C        NaN            OWN     53000.0   \n",
              "79576      9.99       467.33     B        NaN       MORTGAGE     60000.0   \n",
              "36659     13.47       101.77     C   < 1 year           RENT     48000.0   \n",
              "57656     12.99       387.43     B  10+ years       MORTGAGE     65192.0   \n",
              "\n",
              "      verification_status  loan_status pymnt_plan             purpose    dti  \\\n",
              "85227            Verified  Charged Off          n  debt_consolidation  17.26   \n",
              "74107            Verified      Current          n         credit_card  26.31   \n",
              "79576            Verified      Current          n  debt_consolidation  13.00   \n",
              "36659        Not Verified   Fully Paid          n         credit_card   7.08   \n",
              "57656            Verified      Current          n  debt_consolidation  33.69   \n",
              "\n",
              "       delinq_2yrs  inq_last_6mths  mths_since_last_delinq  open_acc  pub_rec  \\\n",
              "85227          0.0             0.0                    38.0      13.0      1.0   \n",
              "74107          0.0             0.0                    66.0      10.0      0.0   \n",
              "79576          1.0             1.0                    23.0       9.0      0.0   \n",
              "36659          0.0             0.0                     NaN       5.0      0.0   \n",
              "57656          2.0             0.0                    10.0      13.0      0.0   \n",
              "\n",
              "       revol_bal  revol_util  total_acc initial_list_status  out_prncp  \\\n",
              "85227     5003.0        21.9       26.0                   f       0.00   \n",
              "74107    37750.0        85.0       24.0                   f   15719.65   \n",
              "79576     6628.0        39.5       21.0                   f   13437.38   \n",
              "36659     2660.0        66.5        5.0                   f       0.00   \n",
              "57656    14444.0        56.9       40.0                   f    3998.42   \n",
              "\n",
              "       out_prncp_inv  total_pymnt  total_pymnt_inv  total_rec_int  \\\n",
              "85227           0.00      2758.85          2758.85        1124.02   \n",
              "74107       15719.65     14951.50         14951.50        6821.15   \n",
              "79576       13437.38     12615.91         12615.91        4053.29   \n",
              "36659           0.00      3612.85          3612.85         612.85   \n",
              "57656        3981.03      9684.04          9641.94        2182.46   \n",
              "\n",
              "       last_pymnt_amnt  collections_12_mths_ex_med application_type  \\\n",
              "85227           186.24                         0.0       INDIVIDUAL   \n",
              "74107           575.06                         0.0       INDIVIDUAL   \n",
              "79576           467.33                         0.0       INDIVIDUAL   \n",
              "36659            15.12                         0.0       INDIVIDUAL   \n",
              "57656           387.43                         0.0       INDIVIDUAL   \n",
              "\n",
              "       acc_now_delinq  tot_coll_amt  tot_cur_bal  total_rev_hi_lim  \n",
              "85227             0.0         274.0     164601.0           22800.0  \n",
              "74107             0.0           0.0      63584.0           44400.0  \n",
              "79576             0.0           0.0      75475.0           16800.0  \n",
              "36659             0.0           NaN          NaN               NaN  \n",
              "57656             0.0           0.0     163906.0           25400.0  "
            ],
            "text/html": [
              "\n",
              "  <div id=\"df-244bf019-9917-4239-b343-684191324ce1\">\n",
              "    <div class=\"colab-df-container\">\n",
              "      <div>\n",
              "<style scoped>\n",
              "    .dataframe tbody tr th:only-of-type {\n",
              "        vertical-align: middle;\n",
              "    }\n",
              "\n",
              "    .dataframe tbody tr th {\n",
              "        vertical-align: top;\n",
              "    }\n",
              "\n",
              "    .dataframe thead th {\n",
              "        text-align: right;\n",
              "    }\n",
              "</style>\n",
              "<table border=\"1\" class=\"dataframe\">\n",
              "  <thead>\n",
              "    <tr style=\"text-align: right;\">\n",
              "      <th></th>\n",
              "      <th>Unnamed: 0</th>\n",
              "      <th>loan_amnt</th>\n",
              "      <th>funded_amnt</th>\n",
              "      <th>funded_amnt_inv</th>\n",
              "      <th>term</th>\n",
              "      <th>int_rate</th>\n",
              "      <th>installment</th>\n",
              "      <th>grade</th>\n",
              "      <th>emp_length</th>\n",
              "      <th>home_ownership</th>\n",
              "      <th>annual_inc</th>\n",
              "      <th>verification_status</th>\n",
              "      <th>loan_status</th>\n",
              "      <th>pymnt_plan</th>\n",
              "      <th>purpose</th>\n",
              "      <th>dti</th>\n",
              "      <th>delinq_2yrs</th>\n",
              "      <th>inq_last_6mths</th>\n",
              "      <th>mths_since_last_delinq</th>\n",
              "      <th>open_acc</th>\n",
              "      <th>pub_rec</th>\n",
              "      <th>revol_bal</th>\n",
              "      <th>revol_util</th>\n",
              "      <th>total_acc</th>\n",
              "      <th>initial_list_status</th>\n",
              "      <th>out_prncp</th>\n",
              "      <th>out_prncp_inv</th>\n",
              "      <th>total_pymnt</th>\n",
              "      <th>total_pymnt_inv</th>\n",
              "      <th>total_rec_int</th>\n",
              "      <th>last_pymnt_amnt</th>\n",
              "      <th>collections_12_mths_ex_med</th>\n",
              "      <th>application_type</th>\n",
              "      <th>acc_now_delinq</th>\n",
              "      <th>tot_coll_amt</th>\n",
              "      <th>tot_cur_bal</th>\n",
              "      <th>total_rev_hi_lim</th>\n",
              "    </tr>\n",
              "  </thead>\n",
              "  <tbody>\n",
              "    <tr>\n",
              "      <th>85227</th>\n",
              "      <td>85227</td>\n",
              "      <td>7000</td>\n",
              "      <td>7000</td>\n",
              "      <td>7000.0</td>\n",
              "      <td>60 months</td>\n",
              "      <td>20.20</td>\n",
              "      <td>186.24</td>\n",
              "      <td>D</td>\n",
              "      <td>5 years</td>\n",
              "      <td>OWN</td>\n",
              "      <td>56250.0</td>\n",
              "      <td>Verified</td>\n",
              "      <td>Charged Off</td>\n",
              "      <td>n</td>\n",
              "      <td>debt_consolidation</td>\n",
              "      <td>17.26</td>\n",
              "      <td>0.0</td>\n",
              "      <td>0.0</td>\n",
              "      <td>38.0</td>\n",
              "      <td>13.0</td>\n",
              "      <td>1.0</td>\n",
              "      <td>5003.0</td>\n",
              "      <td>21.9</td>\n",
              "      <td>26.0</td>\n",
              "      <td>f</td>\n",
              "      <td>0.00</td>\n",
              "      <td>0.00</td>\n",
              "      <td>2758.85</td>\n",
              "      <td>2758.85</td>\n",
              "      <td>1124.02</td>\n",
              "      <td>186.24</td>\n",
              "      <td>0.0</td>\n",
              "      <td>INDIVIDUAL</td>\n",
              "      <td>0.0</td>\n",
              "      <td>274.0</td>\n",
              "      <td>164601.0</td>\n",
              "      <td>22800.0</td>\n",
              "    </tr>\n",
              "    <tr>\n",
              "      <th>74107</th>\n",
              "      <td>74107</td>\n",
              "      <td>23850</td>\n",
              "      <td>23850</td>\n",
              "      <td>23850.0</td>\n",
              "      <td>60 months</td>\n",
              "      <td>15.61</td>\n",
              "      <td>575.06</td>\n",
              "      <td>C</td>\n",
              "      <td>NaN</td>\n",
              "      <td>OWN</td>\n",
              "      <td>53000.0</td>\n",
              "      <td>Verified</td>\n",
              "      <td>Current</td>\n",
              "      <td>n</td>\n",
              "      <td>credit_card</td>\n",
              "      <td>26.31</td>\n",
              "      <td>0.0</td>\n",
              "      <td>0.0</td>\n",
              "      <td>66.0</td>\n",
              "      <td>10.0</td>\n",
              "      <td>0.0</td>\n",
              "      <td>37750.0</td>\n",
              "      <td>85.0</td>\n",
              "      <td>24.0</td>\n",
              "      <td>f</td>\n",
              "      <td>15719.65</td>\n",
              "      <td>15719.65</td>\n",
              "      <td>14951.50</td>\n",
              "      <td>14951.50</td>\n",
              "      <td>6821.15</td>\n",
              "      <td>575.06</td>\n",
              "      <td>0.0</td>\n",
              "      <td>INDIVIDUAL</td>\n",
              "      <td>0.0</td>\n",
              "      <td>0.0</td>\n",
              "      <td>63584.0</td>\n",
              "      <td>44400.0</td>\n",
              "    </tr>\n",
              "    <tr>\n",
              "      <th>79576</th>\n",
              "      <td>79576</td>\n",
              "      <td>22000</td>\n",
              "      <td>22000</td>\n",
              "      <td>22000.0</td>\n",
              "      <td>60 months</td>\n",
              "      <td>9.99</td>\n",
              "      <td>467.33</td>\n",
              "      <td>B</td>\n",
              "      <td>NaN</td>\n",
              "      <td>MORTGAGE</td>\n",
              "      <td>60000.0</td>\n",
              "      <td>Verified</td>\n",
              "      <td>Current</td>\n",
              "      <td>n</td>\n",
              "      <td>debt_consolidation</td>\n",
              "      <td>13.00</td>\n",
              "      <td>1.0</td>\n",
              "      <td>1.0</td>\n",
              "      <td>23.0</td>\n",
              "      <td>9.0</td>\n",
              "      <td>0.0</td>\n",
              "      <td>6628.0</td>\n",
              "      <td>39.5</td>\n",
              "      <td>21.0</td>\n",
              "      <td>f</td>\n",
              "      <td>13437.38</td>\n",
              "      <td>13437.38</td>\n",
              "      <td>12615.91</td>\n",
              "      <td>12615.91</td>\n",
              "      <td>4053.29</td>\n",
              "      <td>467.33</td>\n",
              "      <td>0.0</td>\n",
              "      <td>INDIVIDUAL</td>\n",
              "      <td>0.0</td>\n",
              "      <td>0.0</td>\n",
              "      <td>75475.0</td>\n",
              "      <td>16800.0</td>\n",
              "    </tr>\n",
              "    <tr>\n",
              "      <th>36659</th>\n",
              "      <td>36659</td>\n",
              "      <td>3000</td>\n",
              "      <td>3000</td>\n",
              "      <td>3000.0</td>\n",
              "      <td>36 months</td>\n",
              "      <td>13.47</td>\n",
              "      <td>101.77</td>\n",
              "      <td>C</td>\n",
              "      <td>&lt; 1 year</td>\n",
              "      <td>RENT</td>\n",
              "      <td>48000.0</td>\n",
              "      <td>Not Verified</td>\n",
              "      <td>Fully Paid</td>\n",
              "      <td>n</td>\n",
              "      <td>credit_card</td>\n",
              "      <td>7.08</td>\n",
              "      <td>0.0</td>\n",
              "      <td>0.0</td>\n",
              "      <td>NaN</td>\n",
              "      <td>5.0</td>\n",
              "      <td>0.0</td>\n",
              "      <td>2660.0</td>\n",
              "      <td>66.5</td>\n",
              "      <td>5.0</td>\n",
              "      <td>f</td>\n",
              "      <td>0.00</td>\n",
              "      <td>0.00</td>\n",
              "      <td>3612.85</td>\n",
              "      <td>3612.85</td>\n",
              "      <td>612.85</td>\n",
              "      <td>15.12</td>\n",
              "      <td>0.0</td>\n",
              "      <td>INDIVIDUAL</td>\n",
              "      <td>0.0</td>\n",
              "      <td>NaN</td>\n",
              "      <td>NaN</td>\n",
              "      <td>NaN</td>\n",
              "    </tr>\n",
              "    <tr>\n",
              "      <th>57656</th>\n",
              "      <td>57656</td>\n",
              "      <td>11500</td>\n",
              "      <td>11500</td>\n",
              "      <td>11450.0</td>\n",
              "      <td>36 months</td>\n",
              "      <td>12.99</td>\n",
              "      <td>387.43</td>\n",
              "      <td>B</td>\n",
              "      <td>10+ years</td>\n",
              "      <td>MORTGAGE</td>\n",
              "      <td>65192.0</td>\n",
              "      <td>Verified</td>\n",
              "      <td>Current</td>\n",
              "      <td>n</td>\n",
              "      <td>debt_consolidation</td>\n",
              "      <td>33.69</td>\n",
              "      <td>2.0</td>\n",
              "      <td>0.0</td>\n",
              "      <td>10.0</td>\n",
              "      <td>13.0</td>\n",
              "      <td>0.0</td>\n",
              "      <td>14444.0</td>\n",
              "      <td>56.9</td>\n",
              "      <td>40.0</td>\n",
              "      <td>f</td>\n",
              "      <td>3998.42</td>\n",
              "      <td>3981.03</td>\n",
              "      <td>9684.04</td>\n",
              "      <td>9641.94</td>\n",
              "      <td>2182.46</td>\n",
              "      <td>387.43</td>\n",
              "      <td>0.0</td>\n",
              "      <td>INDIVIDUAL</td>\n",
              "      <td>0.0</td>\n",
              "      <td>0.0</td>\n",
              "      <td>163906.0</td>\n",
              "      <td>25400.0</td>\n",
              "    </tr>\n",
              "  </tbody>\n",
              "</table>\n",
              "</div>\n",
              "      <button class=\"colab-df-convert\" onclick=\"convertToInteractive('df-244bf019-9917-4239-b343-684191324ce1')\"\n",
              "              title=\"Convert this dataframe to an interactive table.\"\n",
              "              style=\"display:none;\">\n",
              "        \n",
              "  <svg xmlns=\"http://www.w3.org/2000/svg\" height=\"24px\"viewBox=\"0 0 24 24\"\n",
              "       width=\"24px\">\n",
              "    <path d=\"M0 0h24v24H0V0z\" fill=\"none\"/>\n",
              "    <path d=\"M18.56 5.44l.94 2.06.94-2.06 2.06-.94-2.06-.94-.94-2.06-.94 2.06-2.06.94zm-11 1L8.5 8.5l.94-2.06 2.06-.94-2.06-.94L8.5 2.5l-.94 2.06-2.06.94zm10 10l.94 2.06.94-2.06 2.06-.94-2.06-.94-.94-2.06-.94 2.06-2.06.94z\"/><path d=\"M17.41 7.96l-1.37-1.37c-.4-.4-.92-.59-1.43-.59-.52 0-1.04.2-1.43.59L10.3 9.45l-7.72 7.72c-.78.78-.78 2.05 0 2.83L4 21.41c.39.39.9.59 1.41.59.51 0 1.02-.2 1.41-.59l7.78-7.78 2.81-2.81c.8-.78.8-2.07 0-2.86zM5.41 20L4 18.59l7.72-7.72 1.47 1.35L5.41 20z\"/>\n",
              "  </svg>\n",
              "      </button>\n",
              "      \n",
              "  <style>\n",
              "    .colab-df-container {\n",
              "      display:flex;\n",
              "      flex-wrap:wrap;\n",
              "      gap: 12px;\n",
              "    }\n",
              "\n",
              "    .colab-df-convert {\n",
              "      background-color: #E8F0FE;\n",
              "      border: none;\n",
              "      border-radius: 50%;\n",
              "      cursor: pointer;\n",
              "      display: none;\n",
              "      fill: #1967D2;\n",
              "      height: 32px;\n",
              "      padding: 0 0 0 0;\n",
              "      width: 32px;\n",
              "    }\n",
              "\n",
              "    .colab-df-convert:hover {\n",
              "      background-color: #E2EBFA;\n",
              "      box-shadow: 0px 1px 2px rgba(60, 64, 67, 0.3), 0px 1px 3px 1px rgba(60, 64, 67, 0.15);\n",
              "      fill: #174EA6;\n",
              "    }\n",
              "\n",
              "    [theme=dark] .colab-df-convert {\n",
              "      background-color: #3B4455;\n",
              "      fill: #D2E3FC;\n",
              "    }\n",
              "\n",
              "    [theme=dark] .colab-df-convert:hover {\n",
              "      background-color: #434B5C;\n",
              "      box-shadow: 0px 1px 3px 1px rgba(0, 0, 0, 0.15);\n",
              "      filter: drop-shadow(0px 1px 2px rgba(0, 0, 0, 0.3));\n",
              "      fill: #FFFFFF;\n",
              "    }\n",
              "  </style>\n",
              "\n",
              "      <script>\n",
              "        const buttonEl =\n",
              "          document.querySelector('#df-244bf019-9917-4239-b343-684191324ce1 button.colab-df-convert');\n",
              "        buttonEl.style.display =\n",
              "          google.colab.kernel.accessAllowed ? 'block' : 'none';\n",
              "\n",
              "        async function convertToInteractive(key) {\n",
              "          const element = document.querySelector('#df-244bf019-9917-4239-b343-684191324ce1');\n",
              "          const dataTable =\n",
              "            await google.colab.kernel.invokeFunction('convertToInteractive',\n",
              "                                                     [key], {});\n",
              "          if (!dataTable) return;\n",
              "\n",
              "          const docLinkHtml = 'Like what you see? Visit the ' +\n",
              "            '<a target=\"_blank\" href=https://colab.research.google.com/notebooks/data_table.ipynb>data table notebook</a>'\n",
              "            + ' to learn more about interactive tables.';\n",
              "          element.innerHTML = '';\n",
              "          dataTable['output_type'] = 'display_data';\n",
              "          await google.colab.output.renderOutput(dataTable, element);\n",
              "          const docLink = document.createElement('div');\n",
              "          docLink.innerHTML = docLinkHtml;\n",
              "          element.appendChild(docLink);\n",
              "        }\n",
              "      </script>\n",
              "    </div>\n",
              "  </div>\n",
              "  "
            ]
          },
          "metadata": {},
          "execution_count": 57
        }
      ]
    },
    {
      "cell_type": "markdown",
      "source": [
        "# Data Preparation"
      ],
      "metadata": {
        "id": "MirhkXngd0zh"
      }
    },
    {
      "cell_type": "markdown",
      "source": [
        "## Missing Data"
      ],
      "metadata": {
        "id": "jNQON-soi-Xi"
      }
    },
    {
      "cell_type": "code",
      "source": [
        "#Mengecek Missing Data\n",
        "ld_nc.isnull().sum()"
      ],
      "metadata": {
        "colab": {
          "base_uri": "https://localhost:8080/"
        },
        "id": "dCPnPxdkh0sL",
        "outputId": "5cf840fd-ade6-4c18-c5a1-f8b0529beddf"
      },
      "execution_count": 58,
      "outputs": [
        {
          "output_type": "execute_result",
          "data": {
            "text/plain": [
              "Unnamed: 0                         0\n",
              "loan_amnt                          0\n",
              "funded_amnt                        0\n",
              "funded_amnt_inv                    0\n",
              "term                               0\n",
              "int_rate                           0\n",
              "installment                        0\n",
              "grade                              0\n",
              "emp_length                      8779\n",
              "home_ownership                     0\n",
              "annual_inc                         4\n",
              "verification_status                0\n",
              "loan_status                        0\n",
              "pymnt_plan                         0\n",
              "purpose                            0\n",
              "dti                                1\n",
              "delinq_2yrs                       30\n",
              "inq_last_6mths                    30\n",
              "mths_since_last_delinq        130448\n",
              "open_acc                          30\n",
              "pub_rec                           30\n",
              "revol_bal                          1\n",
              "revol_util                       205\n",
              "total_acc                         30\n",
              "initial_list_status                1\n",
              "out_prncp                          1\n",
              "out_prncp_inv                      1\n",
              "total_pymnt                        1\n",
              "total_pymnt_inv                    1\n",
              "total_rec_int                      1\n",
              "last_pymnt_amnt                    1\n",
              "collections_12_mths_ex_med       146\n",
              "application_type                   1\n",
              "acc_now_delinq                    30\n",
              "tot_coll_amt                   64517\n",
              "tot_cur_bal                    64517\n",
              "total_rev_hi_lim               64517\n",
              "dtype: int64"
            ]
          },
          "metadata": {},
          "execution_count": 58
        }
      ]
    },
    {
      "cell_type": "code",
      "source": [
        "#Drop kolom dengan Missing Values\n",
        "ld_new = ld_nc.dropna(axis=1,how='all')"
      ],
      "metadata": {
        "id": "5NSnlykfjAg9"
      },
      "execution_count": 59,
      "outputs": []
    },
    {
      "cell_type": "code",
      "source": [
        "#Drop baris dengan Missing Values\n",
        "ld_new2 = ld_new.dropna(axis=0, how='any')"
      ],
      "metadata": {
        "id": "0R6QAtn5EjNf"
      },
      "execution_count": 60,
      "outputs": []
    },
    {
      "cell_type": "code",
      "source": [
        "#Pengecekan kembali Missing Values\n",
        "ld_new2.isnull().sum()"
      ],
      "metadata": {
        "colab": {
          "base_uri": "https://localhost:8080/"
        },
        "id": "QcN7sDbK-uzO",
        "outputId": "5c30377b-c17a-4d91-f509-e54279a62553"
      },
      "execution_count": 61,
      "outputs": [
        {
          "output_type": "execute_result",
          "data": {
            "text/plain": [
              "Unnamed: 0                    0\n",
              "loan_amnt                     0\n",
              "funded_amnt                   0\n",
              "funded_amnt_inv               0\n",
              "term                          0\n",
              "int_rate                      0\n",
              "installment                   0\n",
              "grade                         0\n",
              "emp_length                    0\n",
              "home_ownership                0\n",
              "annual_inc                    0\n",
              "verification_status           0\n",
              "loan_status                   0\n",
              "pymnt_plan                    0\n",
              "purpose                       0\n",
              "dti                           0\n",
              "delinq_2yrs                   0\n",
              "inq_last_6mths                0\n",
              "mths_since_last_delinq        0\n",
              "open_acc                      0\n",
              "pub_rec                       0\n",
              "revol_bal                     0\n",
              "revol_util                    0\n",
              "total_acc                     0\n",
              "initial_list_status           0\n",
              "out_prncp                     0\n",
              "out_prncp_inv                 0\n",
              "total_pymnt                   0\n",
              "total_pymnt_inv               0\n",
              "total_rec_int                 0\n",
              "last_pymnt_amnt               0\n",
              "collections_12_mths_ex_med    0\n",
              "application_type              0\n",
              "acc_now_delinq                0\n",
              "tot_coll_amt                  0\n",
              "tot_cur_bal                   0\n",
              "total_rev_hi_lim              0\n",
              "dtype: int64"
            ]
          },
          "metadata": {},
          "execution_count": 61
        }
      ]
    },
    {
      "cell_type": "markdown",
      "source": [
        "## Duplicated Data"
      ],
      "metadata": {
        "id": "Pg7ERPW1_A5I"
      }
    },
    {
      "cell_type": "code",
      "source": [
        "#Mengecek Data Duplikat\n",
        "ld_new2.duplicated().sum()"
      ],
      "metadata": {
        "id": "EPtiVwSrd8ns",
        "colab": {
          "base_uri": "https://localhost:8080/"
        },
        "outputId": "4fcb7d76-d4d8-4c55-fb47-b8f4fd7df517"
      },
      "execution_count": 62,
      "outputs": [
        {
          "output_type": "execute_result",
          "data": {
            "text/plain": [
              "0"
            ]
          },
          "metadata": {},
          "execution_count": 62
        }
      ]
    },
    {
      "cell_type": "markdown",
      "source": [
        "Dataset tidak memiliki data yang duplikat"
      ],
      "metadata": {
        "id": "RFLZ8HcE_Ht_"
      }
    },
    {
      "cell_type": "markdown",
      "source": [
        "## Feature Encoding"
      ],
      "metadata": {
        "id": "CVQNuXJG1MbC"
      }
    },
    {
      "cell_type": "markdown",
      "source": [
        "Melihat Nilai Unik dari Kolom bertipe Kategori"
      ],
      "metadata": {
        "id": "6LS8U27zpvze"
      }
    },
    {
      "cell_type": "code",
      "source": [
        "ld_new2['emp_length'].unique()"
      ],
      "metadata": {
        "colab": {
          "base_uri": "https://localhost:8080/"
        },
        "id": "QexBVN6Fpo_O",
        "outputId": "1d2c9f7b-f179-4c84-c534-8ad28e8d5044"
      },
      "execution_count": 64,
      "outputs": [
        {
          "output_type": "execute_result",
          "data": {
            "text/plain": [
              "array(['10+ years', '2 years', '4 years', '7 years', '6 years', '5 years',\n",
              "       '8 years', '3 years', '1 year', '< 1 year', '9 years'],\n",
              "      dtype=object)"
            ]
          },
          "metadata": {},
          "execution_count": 64
        }
      ]
    },
    {
      "cell_type": "code",
      "source": [
        "ld_new2['term'].unique()"
      ],
      "metadata": {
        "colab": {
          "base_uri": "https://localhost:8080/"
        },
        "id": "CpMMVQIF-hlS",
        "outputId": "c7d96044-3906-47b7-aa43-ee07052f2f06"
      },
      "execution_count": 65,
      "outputs": [
        {
          "output_type": "execute_result",
          "data": {
            "text/plain": [
              "array([' 36 months', ' 60 months'], dtype=object)"
            ]
          },
          "metadata": {},
          "execution_count": 65
        }
      ]
    },
    {
      "cell_type": "code",
      "source": [
        "ld_new2['grade'].unique()"
      ],
      "metadata": {
        "colab": {
          "base_uri": "https://localhost:8080/"
        },
        "id": "Lk07kgZJpfwe",
        "outputId": "6b52405f-2dd3-4d85-952b-97327818d0af"
      },
      "execution_count": 66,
      "outputs": [
        {
          "output_type": "execute_result",
          "data": {
            "text/plain": [
              "array(['A', 'B', 'D', 'C', 'E', 'G', 'F'], dtype=object)"
            ]
          },
          "metadata": {},
          "execution_count": 66
        }
      ]
    },
    {
      "cell_type": "code",
      "source": [
        "ld_new2['home_ownership'].unique()"
      ],
      "metadata": {
        "colab": {
          "base_uri": "https://localhost:8080/"
        },
        "id": "hICZY4B6p2Oi",
        "outputId": "953afa78-48cf-4420-b8b3-774bee72309b"
      },
      "execution_count": 67,
      "outputs": [
        {
          "output_type": "execute_result",
          "data": {
            "text/plain": [
              "array(['MORTGAGE', 'RENT', 'OWN', 'NONE', 'OTHER'], dtype=object)"
            ]
          },
          "metadata": {},
          "execution_count": 67
        }
      ]
    },
    {
      "cell_type": "code",
      "source": [
        "ld_new2['verification_status'].unique()"
      ],
      "metadata": {
        "colab": {
          "base_uri": "https://localhost:8080/"
        },
        "id": "t3685FcPp-27",
        "outputId": "312dd2d4-c053-4059-af01-953d031daac2"
      },
      "execution_count": 68,
      "outputs": [
        {
          "output_type": "execute_result",
          "data": {
            "text/plain": [
              "array(['Not Verified', 'Source Verified', 'Verified'], dtype=object)"
            ]
          },
          "metadata": {},
          "execution_count": 68
        }
      ]
    },
    {
      "cell_type": "code",
      "source": [
        "ld_new2['pymnt_plan'].unique()"
      ],
      "metadata": {
        "colab": {
          "base_uri": "https://localhost:8080/"
        },
        "id": "7el8QzGrqPoN",
        "outputId": "070ef9b8-0368-4849-d5d3-4161ffa83445"
      },
      "execution_count": 69,
      "outputs": [
        {
          "output_type": "execute_result",
          "data": {
            "text/plain": [
              "array(['n'], dtype=object)"
            ]
          },
          "metadata": {},
          "execution_count": 69
        }
      ]
    },
    {
      "cell_type": "code",
      "source": [
        "ld_new2['purpose'].unique()"
      ],
      "metadata": {
        "colab": {
          "base_uri": "https://localhost:8080/"
        },
        "id": "xrkdm56tqUQD",
        "outputId": "99f1bfef-ecf3-4e9b-dac3-19c951a2a75c"
      },
      "execution_count": 70,
      "outputs": [
        {
          "output_type": "execute_result",
          "data": {
            "text/plain": [
              "array(['debt_consolidation', 'other', 'credit_card', 'home_improvement',\n",
              "       'moving', 'medical', 'major_purchase', 'car', 'small_business',\n",
              "       'vacation', 'house', 'renewable_energy', 'wedding'], dtype=object)"
            ]
          },
          "metadata": {},
          "execution_count": 70
        }
      ]
    },
    {
      "cell_type": "code",
      "source": [
        "ld_new2['initial_list_status'].unique()"
      ],
      "metadata": {
        "colab": {
          "base_uri": "https://localhost:8080/"
        },
        "id": "KaNpNmROqYjT",
        "outputId": "3fcd8f81-7700-4f28-a4bd-633bdd8e557d"
      },
      "execution_count": 71,
      "outputs": [
        {
          "output_type": "execute_result",
          "data": {
            "text/plain": [
              "array(['w', 'f'], dtype=object)"
            ]
          },
          "metadata": {},
          "execution_count": 71
        }
      ]
    },
    {
      "cell_type": "code",
      "source": [
        "ld_new2['application_type'].unique()"
      ],
      "metadata": {
        "colab": {
          "base_uri": "https://localhost:8080/"
        },
        "id": "zXWa8fYqquqM",
        "outputId": "e6abbb5d-3180-4cce-9045-90e2f94a7c6d"
      },
      "execution_count": 72,
      "outputs": [
        {
          "output_type": "execute_result",
          "data": {
            "text/plain": [
              "array(['INDIVIDUAL'], dtype=object)"
            ]
          },
          "metadata": {},
          "execution_count": 72
        }
      ]
    },
    {
      "cell_type": "code",
      "source": [
        "ld_new2['loan_status'].unique()"
      ],
      "metadata": {
        "colab": {
          "base_uri": "https://localhost:8080/"
        },
        "id": "Xai-r58DE286",
        "outputId": "df4776ed-58e8-4eeb-a95d-d6d440646a47"
      },
      "execution_count": 73,
      "outputs": [
        {
          "output_type": "execute_result",
          "data": {
            "text/plain": [
              "array(['Current', 'Fully Paid', 'Charged Off', 'Late (31-120 days)',\n",
              "       'In Grace Period', 'Late (16-30 days)', 'Default'], dtype=object)"
            ]
          },
          "metadata": {},
          "execution_count": 73
        }
      ]
    },
    {
      "cell_type": "markdown",
      "source": [
        "Karena kolom-kolom di atas merupakan kolom bertipe kategori, maka akan ditransformasi menjadi numerik agar dapat dilakukan pemodelan. hal tersebut akan dilakukan dengan menggunakan metode Label Encoding"
      ],
      "metadata": {
        "id": "4yRTtFqJkRic"
      }
    },
    {
      "cell_type": "code",
      "source": [
        "#Label encoding kolom 'emp_length'\n",
        "mapping_emp_length = {\n",
        "    '< 1 year' : 0,\n",
        "    '1 year' : 1,\n",
        "    '2 years' : 2,\n",
        "    '3 years' : 3,\n",
        "    '4 years' : 4,\n",
        "    '5 years' : 5,\n",
        "    '6 years' : 6,\n",
        "    '7 years' : 7,\n",
        "    '8 years' : 8,\n",
        "    '9 years' : 9,\n",
        "    '10+ years' : 10,\n",
        "}\n",
        "ld_new2['emp_length'] = ld_new2['emp_length'].map(mapping_emp_length)\n",
        "\n",
        "#Label encoding kolom 'term'\n",
        "mapping_term = {\n",
        "    ' 36 months' : 0,\n",
        "    ' 60 months' : 1,\n",
        "}\n",
        "ld_new2['term'] = ld_new2['term'].map(mapping_term)\n",
        "\n",
        "#Label encoding kolom 'grade'\n",
        "mapping_grade = {\n",
        "    'A' : 0,\n",
        "    'B' : 1,\n",
        "    'C' : 2,\n",
        "    'D' : 3,\n",
        "    'E' : 4,\n",
        "    'F' : 5,\n",
        "    'G' : 6,\n",
        "}\n",
        "ld_new2['grade'] = ld_new2['grade'].map(mapping_grade)\n",
        "\n",
        "#Label encoding kolom 'home_ownership'\n",
        "mapping_home_ownership = {\n",
        "    'MORTGAGE' : 0, \n",
        "    'RENT' : 1,\n",
        "    'OWN' : 2,\n",
        "    'NONE' : 3,\n",
        "    'OTHER' : 4,\n",
        "    'ANY' : 5,\n",
        "}\n",
        "ld_new2['home_ownership'] = ld_new2['home_ownership'].map(mapping_home_ownership)\n",
        "\n",
        "#Label encoding kolom 'verivication_status'\n",
        "mapping_verification_status = {\n",
        "    'Not Verified' : 0,\n",
        "    'Source Verified' : 1,\n",
        "    'Verified' : 2,\n",
        "}\n",
        "ld_new2['verification_status'] = ld_new2['verification_status'].map(mapping_verification_status)\n",
        "\n",
        "#Label encoding kolom 'pymnt_plan'\n",
        "mapping_pymnt_plan = {\n",
        "    'n' : 0,\n",
        "    'y' : 1,\n",
        "}\n",
        "ld_new2['pymnt_plan'] = ld_new2['pymnt_plan'].map(mapping_pymnt_plan)\n",
        "\n",
        "#Label encoding kolom 'purpose'\n",
        "mapping_purpose = {\n",
        "    'debt_consolidation' : 0,\n",
        "    'other' : 1,\n",
        "    'credit_card' : 2,\n",
        "    'home_improvement' : 3,\n",
        "    'moving' : 4,\n",
        "    'medical' : 5,\n",
        "    'major_purchase' : 6,\n",
        "    'car' : 7,\n",
        "    'small_business' : 8,\n",
        "    'vacation' : 9,\n",
        "    'house' : 10,\n",
        "    'renewable_energy' : 11,\n",
        "    'wedding' : 12,\n",
        "}\n",
        "ld_new2['purpose'] = ld_new2['purpose'].map(mapping_purpose)\n",
        "\n",
        "#Label encoding kolom 'initial_list_status'\n",
        "mapping_initial_list_status = {\n",
        "    'w' : 0,\n",
        "    'f' : 1,\n",
        "}\n",
        "ld_new2['initial_list_status'] = ld_new2['initial_list_status'].map(mapping_initial_list_status)\n",
        "\n",
        "#Label encoding kolom 'application_type'\n",
        "mapping_application_type = {\n",
        "    'INDIVIDUAL' : 0,\n",
        "}\n",
        "ld_new2['application_type'] = ld_new2['application_type'].map(mapping_application_type)"
      ],
      "metadata": {
        "colab": {
          "base_uri": "https://localhost:8080/"
        },
        "id": "kJv1vCzk9AJb",
        "outputId": "af565af6-9f0d-4a53-ba1b-d5672321d280"
      },
      "execution_count": 74,
      "outputs": [
        {
          "output_type": "stream",
          "name": "stderr",
          "text": [
            "/usr/local/lib/python3.7/dist-packages/ipykernel_launcher.py:15: SettingWithCopyWarning: \n",
            "A value is trying to be set on a copy of a slice from a DataFrame.\n",
            "Try using .loc[row_indexer,col_indexer] = value instead\n",
            "\n",
            "See the caveats in the documentation: https://pandas.pydata.org/pandas-docs/stable/user_guide/indexing.html#returning-a-view-versus-a-copy\n",
            "  from ipykernel import kernelapp as app\n",
            "/usr/local/lib/python3.7/dist-packages/ipykernel_launcher.py:22: SettingWithCopyWarning: \n",
            "A value is trying to be set on a copy of a slice from a DataFrame.\n",
            "Try using .loc[row_indexer,col_indexer] = value instead\n",
            "\n",
            "See the caveats in the documentation: https://pandas.pydata.org/pandas-docs/stable/user_guide/indexing.html#returning-a-view-versus-a-copy\n",
            "/usr/local/lib/python3.7/dist-packages/ipykernel_launcher.py:34: SettingWithCopyWarning: \n",
            "A value is trying to be set on a copy of a slice from a DataFrame.\n",
            "Try using .loc[row_indexer,col_indexer] = value instead\n",
            "\n",
            "See the caveats in the documentation: https://pandas.pydata.org/pandas-docs/stable/user_guide/indexing.html#returning-a-view-versus-a-copy\n",
            "/usr/local/lib/python3.7/dist-packages/ipykernel_launcher.py:45: SettingWithCopyWarning: \n",
            "A value is trying to be set on a copy of a slice from a DataFrame.\n",
            "Try using .loc[row_indexer,col_indexer] = value instead\n",
            "\n",
            "See the caveats in the documentation: https://pandas.pydata.org/pandas-docs/stable/user_guide/indexing.html#returning-a-view-versus-a-copy\n",
            "/usr/local/lib/python3.7/dist-packages/ipykernel_launcher.py:53: SettingWithCopyWarning: \n",
            "A value is trying to be set on a copy of a slice from a DataFrame.\n",
            "Try using .loc[row_indexer,col_indexer] = value instead\n",
            "\n",
            "See the caveats in the documentation: https://pandas.pydata.org/pandas-docs/stable/user_guide/indexing.html#returning-a-view-versus-a-copy\n",
            "/usr/local/lib/python3.7/dist-packages/ipykernel_launcher.py:60: SettingWithCopyWarning: \n",
            "A value is trying to be set on a copy of a slice from a DataFrame.\n",
            "Try using .loc[row_indexer,col_indexer] = value instead\n",
            "\n",
            "See the caveats in the documentation: https://pandas.pydata.org/pandas-docs/stable/user_guide/indexing.html#returning-a-view-versus-a-copy\n",
            "/usr/local/lib/python3.7/dist-packages/ipykernel_launcher.py:78: SettingWithCopyWarning: \n",
            "A value is trying to be set on a copy of a slice from a DataFrame.\n",
            "Try using .loc[row_indexer,col_indexer] = value instead\n",
            "\n",
            "See the caveats in the documentation: https://pandas.pydata.org/pandas-docs/stable/user_guide/indexing.html#returning-a-view-versus-a-copy\n",
            "/usr/local/lib/python3.7/dist-packages/ipykernel_launcher.py:85: SettingWithCopyWarning: \n",
            "A value is trying to be set on a copy of a slice from a DataFrame.\n",
            "Try using .loc[row_indexer,col_indexer] = value instead\n",
            "\n",
            "See the caveats in the documentation: https://pandas.pydata.org/pandas-docs/stable/user_guide/indexing.html#returning-a-view-versus-a-copy\n",
            "/usr/local/lib/python3.7/dist-packages/ipykernel_launcher.py:91: SettingWithCopyWarning: \n",
            "A value is trying to be set on a copy of a slice from a DataFrame.\n",
            "Try using .loc[row_indexer,col_indexer] = value instead\n",
            "\n",
            "See the caveats in the documentation: https://pandas.pydata.org/pandas-docs/stable/user_guide/indexing.html#returning-a-view-versus-a-copy\n"
          ]
        }
      ]
    },
    {
      "cell_type": "code",
      "source": [
        "#Membuat kolom baru berdasarkan kolom 'loan_status' sebagai kolom target\n",
        "ld_new2['good_bad'] = np.where(ld_new2.loc[:, 'loan_status'].isin(['Charged Off', 'Default', 'Late (31-120 days)','Does not meet the credit policy. Status:Charged Off']), 0, 1)\n",
        "\n",
        "#Drop kolom asli 'loan_status'\n",
        "ld_new2.drop(columns = ['loan_status'], inplace = True)"
      ],
      "metadata": {
        "colab": {
          "base_uri": "https://localhost:8080/"
        },
        "id": "TcIGz0EjaWW9",
        "outputId": "ade841f0-3d13-4651-eb81-a3a4d7aa0eef"
      },
      "execution_count": 75,
      "outputs": [
        {
          "output_type": "stream",
          "name": "stderr",
          "text": [
            "/usr/local/lib/python3.7/dist-packages/ipykernel_launcher.py:2: SettingWithCopyWarning: \n",
            "A value is trying to be set on a copy of a slice from a DataFrame.\n",
            "Try using .loc[row_indexer,col_indexer] = value instead\n",
            "\n",
            "See the caveats in the documentation: https://pandas.pydata.org/pandas-docs/stable/user_guide/indexing.html#returning-a-view-versus-a-copy\n",
            "  \n",
            "/usr/local/lib/python3.7/dist-packages/pandas/core/frame.py:4913: SettingWithCopyWarning: \n",
            "A value is trying to be set on a copy of a slice from a DataFrame\n",
            "\n",
            "See the caveats in the documentation: https://pandas.pydata.org/pandas-docs/stable/user_guide/indexing.html#returning-a-view-versus-a-copy\n",
            "  errors=errors,\n"
          ]
        }
      ]
    },
    {
      "cell_type": "code",
      "source": [
        "#Mengecek Value pada kolom 'good_bad'\n",
        "ld_new2['good_bad'].value_counts()"
      ],
      "metadata": {
        "colab": {
          "base_uri": "https://localhost:8080/"
        },
        "id": "Mi0B7i-MhmU_",
        "outputId": "13c93668-77d6-4fb0-ee2f-6bdf29bfab13"
      },
      "execution_count": 76,
      "outputs": [
        {
          "output_type": "execute_result",
          "data": {
            "text/plain": [
              "1    59564\n",
              "0     8604\n",
              "Name: good_bad, dtype: int64"
            ]
          },
          "metadata": {},
          "execution_count": 76
        }
      ]
    },
    {
      "cell_type": "markdown",
      "source": [
        "Karena Jumlah Good (1) lebih banyak dibandingkan dengan Bad (0), maka berarti terdapat imbalace data. Oleh karena itu akan dilakukan metode SMOTE untuk mengatasi hal tersebut."
      ],
      "metadata": {
        "id": "Cd-mD0Ychzez"
      }
    },
    {
      "cell_type": "markdown",
      "source": [
        "## Train & Test Data"
      ],
      "metadata": {
        "id": "0rAEOhGbbt9a"
      }
    },
    {
      "cell_type": "code",
      "source": [
        "X = ld_new2.drop(columns='good_bad')\n",
        "y = ld_new2['good_bad']"
      ],
      "metadata": {
        "id": "Zy6RDC_jleOO"
      },
      "execution_count": 77,
      "outputs": []
    },
    {
      "cell_type": "markdown",
      "source": [
        "Data akan dibagi menjadi data Train dan Test dengan proporsi masing-masing sebesar 80% untuk train data dan 20% untuk test data"
      ],
      "metadata": {
        "id": "JF-Aw5yGb2yK"
      }
    },
    {
      "cell_type": "code",
      "source": [
        "# Splitting Data\n",
        "from sklearn.model_selection import train_test_split\n",
        "X_train,X_test,y_train,y_test= train_test_split(ld_new2,y, random_state=42, test_size=0.2)"
      ],
      "metadata": {
        "id": "c0IP9XNRiBJD"
      },
      "execution_count": 78,
      "outputs": []
    },
    {
      "cell_type": "code",
      "source": [
        "#Library Random Over Sample\n",
        "from imblearn.over_sampling import RandomOverSampler\n",
        "\n",
        "#Melakukan Random Over Sample\n",
        "os =  RandomOverSampler(random_state=123)\n",
        "tr_X,tr_y=os.fit_resample(X_train,y_train)\n",
        "\n",
        "print('Sebelum y_train menggunakan SMOTE : \\n{}'.format(y_train.value_counts()))\n",
        "print('Sesudah y_train menggunakan SMOTE : \\n{}'.format(tr_y.value_counts()))"
      ],
      "metadata": {
        "id": "CUkNzJa4bbg1",
        "colab": {
          "base_uri": "https://localhost:8080/"
        },
        "outputId": "7359794e-bb20-42b4-e249-c94042fe6e5a"
      },
      "execution_count": 79,
      "outputs": [
        {
          "output_type": "stream",
          "name": "stdout",
          "text": [
            "Sebelum y_train menggunakan SMOTE : \n",
            "1    47642\n",
            "0     6892\n",
            "Name: good_bad, dtype: int64\n",
            "Sesudah y_train menggunakan SMOTE : \n",
            "1    47642\n",
            "0    47642\n",
            "Name: good_bad, dtype: int64\n"
          ]
        }
      ]
    },
    {
      "cell_type": "markdown",
      "source": [
        "#Modelling"
      ],
      "metadata": {
        "id": "24sGYxSUk-Vc"
      }
    },
    {
      "cell_type": "markdown",
      "source": [
        "## Logistic Regression"
      ],
      "metadata": {
        "id": "F6AivZOTlA6y"
      }
    },
    {
      "cell_type": "code",
      "source": [
        "from sklearn.linear_model import LogisticRegression\n",
        "logreg = LogisticRegression()\n",
        "logreg.fit(tr_X,tr_y)"
      ],
      "metadata": {
        "colab": {
          "base_uri": "https://localhost:8080/"
        },
        "id": "rWMNkEyhlAPp",
        "outputId": "524054c0-eb1b-49a3-e95e-7031b0631bcf"
      },
      "execution_count": 80,
      "outputs": [
        {
          "output_type": "stream",
          "name": "stderr",
          "text": [
            "/usr/local/lib/python3.7/dist-packages/sklearn/linear_model/_logistic.py:818: ConvergenceWarning: lbfgs failed to converge (status=1):\n",
            "STOP: TOTAL NO. of ITERATIONS REACHED LIMIT.\n",
            "\n",
            "Increase the number of iterations (max_iter) or scale the data as shown in:\n",
            "    https://scikit-learn.org/stable/modules/preprocessing.html\n",
            "Please also refer to the documentation for alternative solver options:\n",
            "    https://scikit-learn.org/stable/modules/linear_model.html#logistic-regression\n",
            "  extra_warning_msg=_LOGISTIC_SOLVER_CONVERGENCE_MSG,\n"
          ]
        },
        {
          "output_type": "execute_result",
          "data": {
            "text/plain": [
              "LogisticRegression()"
            ]
          },
          "metadata": {},
          "execution_count": 80
        }
      ]
    },
    {
      "cell_type": "code",
      "source": [
        "#Memprediksi\n",
        "y_pred_train_logreg = logreg.predict(tr_X)\n",
        "y_pred_test_logreg = logreg.predict(X_test)"
      ],
      "metadata": {
        "id": "vOFJZKuIKgPK"
      },
      "execution_count": 81,
      "outputs": []
    },
    {
      "cell_type": "code",
      "source": [
        "#Menghitung Akurasi Model\n",
        "from sklearn.metrics import accuracy_score, f1_score, precision_score, recall_score\n",
        "training_acc_logreg = accuracy_score(tr_y, y_pred_train_logreg)\n",
        "testing_acc_logreg = accuracy_score(y_test, y_pred_test_logreg)\n",
        "\n",
        "print(\"Training Accuracy: {}\".format(training_acc_logreg))\n",
        "print(\"Testing Accuracy: {}\".format(testing_acc_logreg))\n",
        "\n",
        "print(\"Precision: {}\".format(precision_score(y_test, y_pred_test_logreg)))\n",
        "print(\"Recall: {}\".format(recall_score(y_test, y_pred_test_logreg)))\n",
        "print(\"F1-Score: {}\".format(f1_score(y_test, y_pred_test_logreg)))"
      ],
      "metadata": {
        "colab": {
          "base_uri": "https://localhost:8080/"
        },
        "id": "dsZ4bhPZKwwt",
        "outputId": "d58fa5af-ebd9-4266-9557-baf1ca71ff23"
      },
      "execution_count": 82,
      "outputs": [
        {
          "output_type": "stream",
          "name": "stdout",
          "text": [
            "Training Accuracy: 0.9413017925359977\n",
            "Testing Accuracy: 0.9838638697374211\n",
            "Precision: 0.983393919365499\n",
            "Recall: 0.998406307666499\n",
            "F1-Score: 0.9908432531424292\n"
          ]
        }
      ]
    }
  ]
}